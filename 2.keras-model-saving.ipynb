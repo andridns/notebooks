{
 "cells": [
  {
   "cell_type": "code",
   "execution_count": 1,
   "metadata": {},
   "outputs": [
    {
     "name": "stdout",
     "output_type": "stream",
     "text": [
      "Train on 120 samples, validate on 30 samples\n",
      "Epoch 1/20\n",
      "120/120 [==============================] - 0s 3ms/step - loss: 1.2300 - acc: 0.3500 - val_loss: 1.3301 - val_acc: 0.2667\n",
      "Epoch 2/20\n",
      "120/120 [==============================] - 0s 100us/step - loss: 1.2017 - acc: 0.3750 - val_loss: 1.2899 - val_acc: 0.3000\n",
      "Epoch 3/20\n",
      "120/120 [==============================] - 0s 100us/step - loss: 1.1746 - acc: 0.4417 - val_loss: 1.2524 - val_acc: 0.4000\n",
      "Epoch 4/20\n",
      "120/120 [==============================] - 0s 89us/step - loss: 1.1480 - acc: 0.5750 - val_loss: 1.2197 - val_acc: 0.5333\n",
      "Epoch 5/20\n",
      "120/120 [==============================] - 0s 110us/step - loss: 1.1263 - acc: 0.6333 - val_loss: 1.1865 - val_acc: 0.6000\n",
      "Epoch 6/20\n",
      "120/120 [==============================] - 0s 108us/step - loss: 1.1044 - acc: 0.6500 - val_loss: 1.1538 - val_acc: 0.6000\n",
      "Epoch 7/20\n",
      "120/120 [==============================] - 0s 108us/step - loss: 1.0819 - acc: 0.6667 - val_loss: 1.1246 - val_acc: 0.6000\n",
      "Epoch 8/20\n",
      "120/120 [==============================] - 0s 81us/step - loss: 1.0626 - acc: 0.6833 - val_loss: 1.0974 - val_acc: 0.6000\n",
      "Epoch 9/20\n",
      "120/120 [==============================] - 0s 92us/step - loss: 1.0444 - acc: 0.6833 - val_loss: 1.0726 - val_acc: 0.6000\n",
      "Epoch 10/20\n",
      "120/120 [==============================] - 0s 93us/step - loss: 1.0276 - acc: 0.6833 - val_loss: 1.0502 - val_acc: 0.6000\n",
      "Epoch 11/20\n",
      "120/120 [==============================] - 0s 108us/step - loss: 1.0130 - acc: 0.6833 - val_loss: 1.0278 - val_acc: 0.6000\n",
      "Epoch 12/20\n",
      "120/120 [==============================] - 0s 95us/step - loss: 0.9982 - acc: 0.6833 - val_loss: 1.0083 - val_acc: 0.6000\n",
      "Epoch 13/20\n",
      "120/120 [==============================] - 0s 98us/step - loss: 0.9850 - acc: 0.6833 - val_loss: 0.9912 - val_acc: 0.6000\n",
      "Epoch 14/20\n",
      "120/120 [==============================] - 0s 102us/step - loss: 0.9732 - acc: 0.6833 - val_loss: 0.9747 - val_acc: 0.6000\n",
      "Epoch 15/20\n",
      "120/120 [==============================] - 0s 91us/step - loss: 0.9618 - acc: 0.6833 - val_loss: 0.9605 - val_acc: 0.6000\n",
      "Epoch 16/20\n",
      "120/120 [==============================] - 0s 93us/step - loss: 0.9513 - acc: 0.6833 - val_loss: 0.9474 - val_acc: 0.6000\n",
      "Epoch 17/20\n",
      "120/120 [==============================] - 0s 99us/step - loss: 0.9419 - acc: 0.6833 - val_loss: 0.9351 - val_acc: 0.6000\n",
      "Epoch 18/20\n",
      "120/120 [==============================] - 0s 97us/step - loss: 0.9323 - acc: 0.6833 - val_loss: 0.9230 - val_acc: 0.6000\n",
      "Epoch 19/20\n",
      "120/120 [==============================] - 0s 92us/step - loss: 0.9235 - acc: 0.7000 - val_loss: 0.9111 - val_acc: 0.6333\n",
      "Epoch 20/20\n",
      "120/120 [==============================] - 0s 93us/step - loss: 0.9156 - acc: 0.7667 - val_loss: 0.8990 - val_acc: 0.8000\n"
     ]
    }
   ],
   "source": [
    "### TRAINING CODE\n",
    "import tensorflow as tf\n",
    "from sklearn.datasets import load_iris\n",
    "from sklearn.model_selection import train_test_split\n",
    "# some data\n",
    "iris = load_iris()\n",
    "X, y = iris.data, iris.target\n",
    "X_train, X_val, y_train, y_val = train_test_split(X, y, test_size=0.2)\n",
    "y_train_oh = tf.keras.utils.to_categorical(y_train)\n",
    "y_val_oh = tf.keras.utils.to_categorical(y_val)\n",
    "\n",
    "# Keras Functional API\n",
    "x = tf.keras.Input(shape=(4,))\n",
    "dense = tf.keras.layers.Dense(64, activation='relu')(x)\n",
    "dense = tf.keras.layers.Dense(3, activation='softmax')(dense)\n",
    "model = tf.keras.Model(inputs=x, outputs=dense)\n",
    "model.compile(optimizer=tf.keras.optimizers.Adam(1e-4),\n",
    "              loss='categorical_crossentropy',\n",
    "              metrics=['accuracy'])\n",
    "# training\n",
    "model.fit(X_train, y_train_oh, 16, epochs=20, validation_data=(X_val, y_val_oh))\n",
    "# save weights\n",
    "model.save_weights('models/model_weights.h5')\n",
    "# save weights AND architecture\n",
    "model.save('models/model.h5')"
   ]
  },
  {
   "cell_type": "code",
   "execution_count": 1,
   "metadata": {},
   "outputs": [],
   "source": [
    "### TRAINING CODE\n",
    "import tensorflow as tf\n",
    "from sklearn.datasets import load_iris\n",
    "from sklearn.model_selection import train_test_split\n",
    "# some data\n",
    "iris = load_iris()\n",
    "X, y = iris.data, iris.target\n",
    "X_train, X_val, y_train, y_val = train_test_split(X, y, test_size=0.2)\n",
    "y_train_oh = tf.keras.utils.to_categorical(y_train)\n",
    "y_val_oh = tf.keras.utils.to_categorical(y_val)\n",
    "\n",
    "# Keras Functional API\n",
    "x = tf.keras.Input(shape=(4,))\n",
    "dense = tf.keras.layers.Dense(64, activation='relu')(x)\n",
    "dense = tf.keras.layers.Dense(3, activation='softmax')(dense)\n",
    "model = tf.keras.Model(inputs=x, outputs=dense)\n",
    "model.compile(optimizer=tf.keras.optimizers.Adam(1e-4),\n",
    "              loss='categorical_crossentropy',\n",
    "              metrics=['accuracy'])\n",
    "# training\n",
    "model.fit(X_train, y_train_oh, 16, epochs=20, validation_data=(X_val, y_val_oh))\n",
    "# save weights\n",
    "model.save_weights('models/model_weights.h5')\n",
    "# save weights AND architecture\n",
    "model.save('models/model.h5')\n",
    "\n",
    "\n",
    "### TESTING CODE\n",
    "# Model loading using .h5 weights file\n",
    "import tensorflow as tf\n",
    "x = tf.keras.Input(shape=(4,))\n",
    "dense = tf.keras.layers.Dense(64, activation='relu')(x)\n",
    "dense = tf.keras.layers.Dense(3, activation='softmax')(dense)\n",
    "model2 = tf.keras.Model(inputs=x, outputs=dense)\n",
    "model2.load_weights('models/model_weights.h5')\n",
    "\n",
    "# Model loading using .h5 model file\n",
    "import tensorflow as tf\n",
    "model3 = tf.keras.models.load_model('models/model.h5') # simpler API, but bigger filesize"
   ]
  },
  {
   "cell_type": "code",
   "execution_count": null,
   "metadata": {},
   "outputs": [],
   "source": []
  },
  {
   "cell_type": "code",
   "execution_count": 8,
   "metadata": {},
   "outputs": [],
   "source": [
    "x = tf.keras.Input(shape=(4,))\n",
    "\n",
    "dense = tf.keras.layers.Dense(64, activation='relu')(x)\n",
    "dense = tf.keras.layers.Dense(3, activation='softmax')(dense)\n",
    "\n",
    "model2 = tf.keras.Model(inputs=x, outputs=dense)"
   ]
  },
  {
   "cell_type": "code",
   "execution_count": 9,
   "metadata": {},
   "outputs": [],
   "source": [
    "model2.load_weights('test.h5')"
   ]
  },
  {
   "cell_type": "code",
   "execution_count": null,
   "metadata": {},
   "outputs": [],
   "source": []
  },
  {
   "cell_type": "code",
   "execution_count": null,
   "metadata": {},
   "outputs": [],
   "source": []
  },
  {
   "cell_type": "code",
   "execution_count": null,
   "metadata": {},
   "outputs": [],
   "source": []
  },
  {
   "cell_type": "code",
   "execution_count": 9,
   "metadata": {},
   "outputs": [
    {
     "name": "stdout",
     "output_type": "stream",
     "text": [
      "Train on 120 samples, validate on 30 samples\n",
      "Epoch 1/20\n",
      "120/120 [==============================] - 0s 3ms/step - loss: 1.2966 - acc: 0.3667 - val_loss: 1.4561 - val_acc: 0.2000\n",
      "Epoch 2/20\n",
      "120/120 [==============================] - 0s 75us/step - loss: 1.2757 - acc: 0.3667 - val_loss: 1.4284 - val_acc: 0.2000\n",
      "Epoch 3/20\n",
      "120/120 [==============================] - 0s 88us/step - loss: 1.2576 - acc: 0.3667 - val_loss: 1.4003 - val_acc: 0.2000\n",
      "Epoch 4/20\n",
      "120/120 [==============================] - 0s 92us/step - loss: 1.2389 - acc: 0.3667 - val_loss: 1.3758 - val_acc: 0.2000\n",
      "Epoch 5/20\n",
      "120/120 [==============================] - 0s 89us/step - loss: 1.2245 - acc: 0.3667 - val_loss: 1.3538 - val_acc: 0.2000\n",
      "Epoch 6/20\n",
      "120/120 [==============================] - 0s 98us/step - loss: 1.2096 - acc: 0.3667 - val_loss: 1.3336 - val_acc: 0.2000\n",
      "Epoch 7/20\n",
      "120/120 [==============================] - 0s 109us/step - loss: 1.1968 - acc: 0.3667 - val_loss: 1.3159 - val_acc: 0.2000\n",
      "Epoch 8/20\n",
      "120/120 [==============================] - 0s 108us/step - loss: 1.1847 - acc: 0.3667 - val_loss: 1.2977 - val_acc: 0.2000\n",
      "Epoch 9/20\n",
      "120/120 [==============================] - 0s 84us/step - loss: 1.1750 - acc: 0.3667 - val_loss: 1.2803 - val_acc: 0.2000\n",
      "Epoch 10/20\n",
      "120/120 [==============================] - 0s 91us/step - loss: 1.1648 - acc: 0.3667 - val_loss: 1.2665 - val_acc: 0.2000\n",
      "Epoch 11/20\n",
      "120/120 [==============================] - 0s 95us/step - loss: 1.1567 - acc: 0.3667 - val_loss: 1.2541 - val_acc: 0.2000\n",
      "Epoch 12/20\n",
      "120/120 [==============================] - 0s 84us/step - loss: 1.1486 - acc: 0.3667 - val_loss: 1.2432 - val_acc: 0.2000\n",
      "Epoch 13/20\n",
      "120/120 [==============================] - 0s 70us/step - loss: 1.1423 - acc: 0.3667 - val_loss: 1.2326 - val_acc: 0.2000\n",
      "Epoch 14/20\n",
      "120/120 [==============================] - 0s 80us/step - loss: 1.1368 - acc: 0.3667 - val_loss: 1.2222 - val_acc: 0.2000\n",
      "Epoch 15/20\n",
      "120/120 [==============================] - 0s 66us/step - loss: 1.1309 - acc: 0.3667 - val_loss: 1.2143 - val_acc: 0.2000\n",
      "Epoch 16/20\n",
      "120/120 [==============================] - 0s 96us/step - loss: 1.1268 - acc: 0.3667 - val_loss: 1.2058 - val_acc: 0.2000\n",
      "Epoch 17/20\n",
      "120/120 [==============================] - 0s 86us/step - loss: 1.1220 - acc: 0.3667 - val_loss: 1.1998 - val_acc: 0.2000\n",
      "Epoch 18/20\n",
      "120/120 [==============================] - 0s 88us/step - loss: 1.1184 - acc: 0.3667 - val_loss: 1.1939 - val_acc: 0.2000\n",
      "Epoch 19/20\n",
      "120/120 [==============================] - 0s 100us/step - loss: 1.1154 - acc: 0.3667 - val_loss: 1.1878 - val_acc: 0.2000\n",
      "Epoch 20/20\n",
      "120/120 [==============================] - 0s 92us/step - loss: 1.1128 - acc: 0.3667 - val_loss: 1.1834 - val_acc: 0.2000\n"
     ]
    },
    {
     "data": {
      "text/plain": [
       "<tensorflow.python.keras.callbacks.History at 0x1ca5e609c50>"
      ]
     },
     "execution_count": 9,
     "metadata": {},
     "output_type": "execute_result"
    }
   ],
   "source": [
    "model = tf.keras.Sequential([\n",
    "    tf.keras.layers.Dense(4, activation='relu'),\n",
    "    tf.keras.layers.Dense(64, activation='relu'),\n",
    "    tf.keras.layers.Dense(3, activation='softmax')\n",
    "])\n",
    "model.compile(optimizer=tf.keras.optimizers.Adam(1e-4),\n",
    "              loss='categorical_crossentropy',\n",
    "              metrics=['accuracy'])\n",
    "model.fit(X_train, y_train_oh, 16, epochs=20, validation_data=(X_val, y_val_oh))"
   ]
  },
  {
   "cell_type": "code",
   "execution_count": 10,
   "metadata": {},
   "outputs": [],
   "source": [
    "model.save('models/model_f.h5')"
   ]
  },
  {
   "cell_type": "code",
   "execution_count": 11,
   "metadata": {},
   "outputs": [
    {
     "name": "stdout",
     "output_type": "stream",
     "text": [
      "_________________________________________________________________\n",
      "Layer (type)                 Output Shape              Param #   \n",
      "=================================================================\n",
      "dense_6 (Dense)              (None, 4)                 20        \n",
      "_________________________________________________________________\n",
      "dense_7 (Dense)              (None, 64)                320       \n",
      "_________________________________________________________________\n",
      "dense_8 (Dense)              (None, 3)                 195       \n",
      "=================================================================\n",
      "Total params: 535\n",
      "Trainable params: 535\n",
      "Non-trainable params: 0\n",
      "_________________________________________________________________\n"
     ]
    }
   ],
   "source": [
    "model.summary()"
   ]
  },
  {
   "cell_type": "code",
   "execution_count": 12,
   "metadata": {},
   "outputs": [],
   "source": [
    "import tensorflow as tf\n"
   ]
  },
  {
   "cell_type": "code",
   "execution_count": 13,
   "metadata": {},
   "outputs": [
    {
     "ename": "ValueError",
     "evalue": "You are trying to load a weight file containing 3 layers into a model with 0 layers.",
     "output_type": "error",
     "traceback": [
      "\u001b[1;31m---------------------------------------------------------------------------\u001b[0m",
      "\u001b[1;31mValueError\u001b[0m                                Traceback (most recent call last)",
      "\u001b[1;32m<ipython-input-13-c4ac8db8b694>\u001b[0m in \u001b[0;36m<module>\u001b[1;34m()\u001b[0m\n\u001b[1;32m----> 1\u001b[1;33m \u001b[0mmodel2\u001b[0m \u001b[1;33m=\u001b[0m \u001b[0mtf\u001b[0m\u001b[1;33m.\u001b[0m\u001b[0mkeras\u001b[0m\u001b[1;33m.\u001b[0m\u001b[0mmodels\u001b[0m\u001b[1;33m.\u001b[0m\u001b[0mload_model\u001b[0m\u001b[1;33m(\u001b[0m\u001b[1;34m'models/model_f.h5'\u001b[0m\u001b[1;33m)\u001b[0m\u001b[1;33m\u001b[0m\u001b[0m\n\u001b[0m",
      "\u001b[1;32m~\\Documents\\Anaconda3\\envs\\flask\\lib\\site-packages\\tensorflow\\python\\keras\\engine\\saving.py\u001b[0m in \u001b[0;36mload_model\u001b[1;34m(filepath, custom_objects, compile)\u001b[0m\n\u001b[0;32m    230\u001b[0m \u001b[1;33m\u001b[0m\u001b[0m\n\u001b[0;32m    231\u001b[0m     \u001b[1;31m# set weights\u001b[0m\u001b[1;33m\u001b[0m\u001b[1;33m\u001b[0m\u001b[0m\n\u001b[1;32m--> 232\u001b[1;33m     \u001b[0mload_weights_from_hdf5_group\u001b[0m\u001b[1;33m(\u001b[0m\u001b[0mf\u001b[0m\u001b[1;33m[\u001b[0m\u001b[1;34m'model_weights'\u001b[0m\u001b[1;33m]\u001b[0m\u001b[1;33m,\u001b[0m \u001b[0mmodel\u001b[0m\u001b[1;33m.\u001b[0m\u001b[0mlayers\u001b[0m\u001b[1;33m)\u001b[0m\u001b[1;33m\u001b[0m\u001b[0m\n\u001b[0m\u001b[0;32m    233\u001b[0m \u001b[1;33m\u001b[0m\u001b[0m\n\u001b[0;32m    234\u001b[0m     \u001b[1;32mif\u001b[0m \u001b[0mcompile\u001b[0m\u001b[1;33m:\u001b[0m\u001b[1;33m\u001b[0m\u001b[0m\n",
      "\u001b[1;32m~\\Documents\\Anaconda3\\envs\\flask\\lib\\site-packages\\tensorflow\\python\\keras\\engine\\saving.py\u001b[0m in \u001b[0;36mload_weights_from_hdf5_group\u001b[1;34m(f, layers)\u001b[0m\n\u001b[0;32m    730\u001b[0m                      \u001b[1;34m'containing '\u001b[0m \u001b[1;33m+\u001b[0m \u001b[0mstr\u001b[0m\u001b[1;33m(\u001b[0m\u001b[0mlen\u001b[0m\u001b[1;33m(\u001b[0m\u001b[0mlayer_names\u001b[0m\u001b[1;33m)\u001b[0m\u001b[1;33m)\u001b[0m \u001b[1;33m+\u001b[0m\u001b[1;33m\u001b[0m\u001b[0m\n\u001b[0;32m    731\u001b[0m                      \u001b[1;34m' layers into a model with '\u001b[0m \u001b[1;33m+\u001b[0m \u001b[0mstr\u001b[0m\u001b[1;33m(\u001b[0m\u001b[0mlen\u001b[0m\u001b[1;33m(\u001b[0m\u001b[0mfiltered_layers\u001b[0m\u001b[1;33m)\u001b[0m\u001b[1;33m)\u001b[0m \u001b[1;33m+\u001b[0m\u001b[1;33m\u001b[0m\u001b[0m\n\u001b[1;32m--> 732\u001b[1;33m                      ' layers.')\n\u001b[0m\u001b[0;32m    733\u001b[0m \u001b[1;33m\u001b[0m\u001b[0m\n\u001b[0;32m    734\u001b[0m   \u001b[1;31m# We batch weight value assignments in a single backend call\u001b[0m\u001b[1;33m\u001b[0m\u001b[1;33m\u001b[0m\u001b[0m\n",
      "\u001b[1;31mValueError\u001b[0m: You are trying to load a weight file containing 3 layers into a model with 0 layers."
     ]
    }
   ],
   "source": [
    "model2 = tf.keras.models.load_model('models/model_f.h5')"
   ]
  },
  {
   "cell_type": "code",
   "execution_count": 6,
   "metadata": {},
   "outputs": [
    {
     "name": "stdout",
     "output_type": "stream",
     "text": [
      "_________________________________________________________________\n",
      "Layer (type)                 Output Shape              Param #   \n",
      "=================================================================\n",
      "dense (Dense)                (None, 4)                 20        \n",
      "_________________________________________________________________\n",
      "dense_1 (Dense)              (None, 64)                320       \n",
      "_________________________________________________________________\n",
      "dense_2 (Dense)              (None, 3)                 195       \n",
      "=================================================================\n",
      "Total params: 535\n",
      "Trainable params: 535\n",
      "Non-trainable params: 0\n",
      "_________________________________________________________________\n"
     ]
    }
   ],
   "source": [
    "model.summary()"
   ]
  },
  {
   "cell_type": "code",
   "execution_count": 7,
   "metadata": {},
   "outputs": [],
   "source": [
    "model = tf.keras.Sequential()\n",
    "model.add(tf.keras.layers.Dense(4, activation='relu'))\n",
    "model.add(tf.keras.layers.Dense(64, activation='relu'))\n",
    "model.add(tf.keras.layers.Dense(3, activation='softmax'))"
   ]
  },
  {
   "cell_type": "code",
   "execution_count": 8,
   "metadata": {},
   "outputs": [
    {
     "ename": "ValueError",
     "evalue": "You are trying to load a weight file containing 3 layers into a model with 0 layers.",
     "output_type": "error",
     "traceback": [
      "\u001b[1;31m---------------------------------------------------------------------------\u001b[0m",
      "\u001b[1;31mValueError\u001b[0m                                Traceback (most recent call last)",
      "\u001b[1;32m<ipython-input-8-5adfa8e1d454>\u001b[0m in \u001b[0;36m<module>\u001b[1;34m()\u001b[0m\n\u001b[1;32m----> 1\u001b[1;33m \u001b[0mmodel\u001b[0m\u001b[1;33m.\u001b[0m\u001b[0mload_weights\u001b[0m\u001b[1;33m(\u001b[0m\u001b[1;34m'models/model.h5'\u001b[0m\u001b[1;33m)\u001b[0m\u001b[1;33m\u001b[0m\u001b[0m\n\u001b[0m",
      "\u001b[1;32m~\\Documents\\Anaconda3\\envs\\flask\\lib\\site-packages\\tensorflow\\python\\keras\\engine\\network.py\u001b[0m in \u001b[0;36mload_weights\u001b[1;34m(self, filepath, by_name)\u001b[0m\n\u001b[0;32m   1389\u001b[0m         \u001b[0msaving\u001b[0m\u001b[1;33m.\u001b[0m\u001b[0mload_weights_from_hdf5_group_by_name\u001b[0m\u001b[1;33m(\u001b[0m\u001b[0mf\u001b[0m\u001b[1;33m,\u001b[0m \u001b[0mself\u001b[0m\u001b[1;33m.\u001b[0m\u001b[0mlayers\u001b[0m\u001b[1;33m)\u001b[0m\u001b[1;33m\u001b[0m\u001b[0m\n\u001b[0;32m   1390\u001b[0m       \u001b[1;32melse\u001b[0m\u001b[1;33m:\u001b[0m\u001b[1;33m\u001b[0m\u001b[0m\n\u001b[1;32m-> 1391\u001b[1;33m         \u001b[0msaving\u001b[0m\u001b[1;33m.\u001b[0m\u001b[0mload_weights_from_hdf5_group\u001b[0m\u001b[1;33m(\u001b[0m\u001b[0mf\u001b[0m\u001b[1;33m,\u001b[0m \u001b[0mself\u001b[0m\u001b[1;33m.\u001b[0m\u001b[0mlayers\u001b[0m\u001b[1;33m)\u001b[0m\u001b[1;33m\u001b[0m\u001b[0m\n\u001b[0m\u001b[0;32m   1392\u001b[0m \u001b[1;33m\u001b[0m\u001b[0m\n\u001b[0;32m   1393\u001b[0m   \u001b[1;32mdef\u001b[0m \u001b[0m_post_build_cleanup\u001b[0m\u001b[1;33m(\u001b[0m\u001b[0mself\u001b[0m\u001b[1;33m)\u001b[0m\u001b[1;33m:\u001b[0m\u001b[1;33m\u001b[0m\u001b[0m\n",
      "\u001b[1;32m~\\Documents\\Anaconda3\\envs\\flask\\lib\\site-packages\\tensorflow\\python\\keras\\engine\\saving.py\u001b[0m in \u001b[0;36mload_weights_from_hdf5_group\u001b[1;34m(f, layers)\u001b[0m\n\u001b[0;32m    730\u001b[0m                      \u001b[1;34m'containing '\u001b[0m \u001b[1;33m+\u001b[0m \u001b[0mstr\u001b[0m\u001b[1;33m(\u001b[0m\u001b[0mlen\u001b[0m\u001b[1;33m(\u001b[0m\u001b[0mlayer_names\u001b[0m\u001b[1;33m)\u001b[0m\u001b[1;33m)\u001b[0m \u001b[1;33m+\u001b[0m\u001b[1;33m\u001b[0m\u001b[0m\n\u001b[0;32m    731\u001b[0m                      \u001b[1;34m' layers into a model with '\u001b[0m \u001b[1;33m+\u001b[0m \u001b[0mstr\u001b[0m\u001b[1;33m(\u001b[0m\u001b[0mlen\u001b[0m\u001b[1;33m(\u001b[0m\u001b[0mfiltered_layers\u001b[0m\u001b[1;33m)\u001b[0m\u001b[1;33m)\u001b[0m \u001b[1;33m+\u001b[0m\u001b[1;33m\u001b[0m\u001b[0m\n\u001b[1;32m--> 732\u001b[1;33m                      ' layers.')\n\u001b[0m\u001b[0;32m    733\u001b[0m \u001b[1;33m\u001b[0m\u001b[0m\n\u001b[0;32m    734\u001b[0m   \u001b[1;31m# We batch weight value assignments in a single backend call\u001b[0m\u001b[1;33m\u001b[0m\u001b[1;33m\u001b[0m\u001b[0m\n",
      "\u001b[1;31mValueError\u001b[0m: You are trying to load a weight file containing 3 layers into a model with 0 layers."
     ]
    }
   ],
   "source": [
    "model.load_weights('models/model.h5')"
   ]
  },
  {
   "cell_type": "code",
   "execution_count": null,
   "metadata": {},
   "outputs": [],
   "source": []
  }
 ],
 "metadata": {
  "kernelspec": {
   "display_name": "Python 3",
   "language": "python",
   "name": "python3"
  },
  "language_info": {
   "codemirror_mode": {
    "name": "ipython",
    "version": 3
   },
   "file_extension": ".py",
   "mimetype": "text/x-python",
   "name": "python",
   "nbconvert_exporter": "python",
   "pygments_lexer": "ipython3",
   "version": "3.6.6"
  }
 },
 "nbformat": 4,
 "nbformat_minor": 2
}
