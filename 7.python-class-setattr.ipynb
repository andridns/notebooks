{
 "cells": [
  {
   "cell_type": "markdown",
   "metadata": {},
   "source": [
    "Right so I'm trying to create an API wrapper in Python.\n",
    "\n",
    "One of the endpoints I'm using returns a JSON with a large number of attributes.\n",
    "\n",
    "In traditional wrappers, is this a conventional way to initialise an object? or is there a better way?\n",
    "\n",
    "\n",
    "*main.py*\n",
    "\n",
    "    ...\n",
    "    return [item.Item(*_item.values()) for _item in result.json()]\n",
    "    ...\n",
    "\n",
    "*item.py*\n",
    "\n",
    "\tclass Item:\n",
    "\t\tdef __init__(self,\n",
    "\t\t\t\t\t app_id,\n",
    "\t\t\t\t\t context_id,\n",
    "\t\t\t\t\t created_at,\n",
    "\t\t\t\t\t icon_url,\n",
    "\t\t\t\t\t instant_sale_price,\n",
    "\t\t\t\t\t market_hash_name,\n",
    "\t\t\t\t\t name_color,\n",
    "\t\t\t\t\t price,\n",
    "\t\t\t\t\t pricing_mode,\n",
    "\t\t\t\t\t quality_color,\n",
    "\t\t\t\t\t rarity_color,\n",
    "\t\t\t\t\t skewness):\n",
    "\t\n",
    "\t\t\tself.app_id = app_id\n",
    "\t\t\tself.context_id = context_id\n",
    "\t\t\tself.created_at = created_at\n",
    "\t\t\tself.icon_url = icon_url\n",
    "\t\t\tself.instant_sale_price = instant_sale_price\n",
    "\t\t\tself.market_hash_name = market_hash_name\n",
    "\t\t\tself.name_color = name_color\n",
    "\t\t\tself.price = price\n",
    "\t\t\tself.pricing_mode = pricing_mode\n",
    "\t\t\tself.quality_color = quality_color\n",
    "\t\t\tself.rarity_color = rarity_color\n",
    "\t\t\tself.skewness = skewness\n",
    "\t\n",
    "\t\tdef __repr__(self):\n",
    "\t\t\treturn \"<Item {}>\".format(self.market_hash_name)\n",
    "\t\n",
    "\t\n"
   ]
  },
  {
   "cell_type": "code",
   "execution_count": 2,
   "metadata": {},
   "outputs": [],
   "source": [
    "class Item:\n",
    "    def __init__(self,\n",
    "                 app_id,\n",
    "                 context_id,\n",
    "                 created_at,\n",
    "                 icon_url,\n",
    "                 instant_sale_price,\n",
    "                 market_hash_name,\n",
    "                 name_color,\n",
    "                 price,\n",
    "                 pricing_mode,\n",
    "                 quality_color,\n",
    "                 rarity_color,\n",
    "                 skewness):\n",
    "\n",
    "        self.app_id = app_id\n",
    "        self.context_id = context_id\n",
    "        self.created_at = created_at\n",
    "        self.icon_url = icon_url\n",
    "        self.instant_sale_price = instant_sale_price\n",
    "        self.market_hash_name = market_hash_name\n",
    "        self.name_color = name_color\n",
    "        self.price = price\n",
    "        self.pricing_mode = pricing_mode\n",
    "        self.quality_color = quality_color\n",
    "        self.rarity_color = rarity_color\n",
    "        self.skewness = skewness\n",
    "\n",
    "    def __repr__(self):\n",
    "        return \"<Item {}>\".format(self.market_hash_name)\n",
    "\n",
    "\n"
   ]
  },
  {
   "cell_type": "code",
   "execution_count": 6,
   "metadata": {},
   "outputs": [],
   "source": [
    "a = Item(1,2,'2010-10-10','url',100,'hash-name','name-color','200','mode-a','quality-color','color-rarity',2000)"
   ]
  },
  {
   "cell_type": "code",
   "execution_count": 9,
   "metadata": {},
   "outputs": [
    {
     "data": {
      "text/plain": [
       "'<Item hash-name>'"
      ]
     },
     "execution_count": 9,
     "metadata": {},
     "output_type": "execute_result"
    }
   ],
   "source": [
    "a.__repr__()"
   ]
  },
  {
   "cell_type": "code",
   "execution_count": 1,
   "metadata": {},
   "outputs": [],
   "source": [
    "class Item:\n",
    "    def __init__(self, **kwargs):\n",
    "        for key, value in kwargs.items():\n",
    "            setattr(self, key, value)"
   ]
  },
  {
   "cell_type": "code",
   "execution_count": 2,
   "metadata": {},
   "outputs": [],
   "source": [
    "b = Item(app_id=1,\n",
    "          context_id=2,\n",
    "          created_at='2010-10-10',\n",
    "          icon_url='icon-url',\n",
    "          instant_sale_price=100,\n",
    "          market_hash_name='market-hash-name',\n",
    "          name_color='color-name',\n",
    "          price=2000,\n",
    "          pricing_mode='mode-price',\n",
    "          quality_color='color-quality',\n",
    "          rarity_color='color-rarity',\n",
    "          skewness=1.5)"
   ]
  },
  {
   "cell_type": "code",
   "execution_count": 6,
   "metadata": {},
   "outputs": [
    {
     "data": {
      "text/plain": [
       "{'app_id': 1,\n",
       " 'context_id': 2,\n",
       " 'created_at': '2010-10-10',\n",
       " 'icon_url': 'icon-url',\n",
       " 'instant_sale_price': 100,\n",
       " 'market_hash_name': 'market-hash-name',\n",
       " 'name_color': 'color-name',\n",
       " 'price': 2000,\n",
       " 'pricing_mode': 'mode-price',\n",
       " 'quality_color': 'color-quality',\n",
       " 'rarity_color': 'color-rarity',\n",
       " 'skewness': 1.5}"
      ]
     },
     "execution_count": 6,
     "metadata": {},
     "output_type": "execute_result"
    }
   ],
   "source": [
    "b.__dict__"
   ]
  },
  {
   "cell_type": "code",
   "execution_count": null,
   "metadata": {},
   "outputs": [],
   "source": []
  },
  {
   "cell_type": "code",
   "execution_count": null,
   "metadata": {},
   "outputs": [],
   "source": []
  },
  {
   "cell_type": "code",
   "execution_count": 7,
   "metadata": {},
   "outputs": [],
   "source": [
    "class Item2:\n",
    "    def __init__(self, **kwargs):\n",
    "        self.__dict__.update(kwargs)\n",
    "\n",
    "\n",
    "    def __repr__(self):\n",
    "        if self.market_hash_name:\n",
    "            return \"<Item: {}>\".format(self.market_hash_name)\n",
    "        else:\n",
    "            return \"<Item>\""
   ]
  },
  {
   "cell_type": "code",
   "execution_count": 10,
   "metadata": {},
   "outputs": [],
   "source": [
    "c = Item2(app_id=1,\n",
    "          context_id=2,\n",
    "          created_at='2010-10-10',\n",
    "          icon_url='icon-url',\n",
    "          instant_sale_price=100,\n",
    "          market_hash_name='market-hash-name',\n",
    "          name_color='color-name',\n",
    "          price=2000,\n",
    "          pricing_mode='mode-price',\n",
    "          quality_color='color-quality',\n",
    "          rarity_color='color-rarity',\n",
    "          skewness=1.5)"
   ]
  },
  {
   "cell_type": "code",
   "execution_count": null,
   "metadata": {},
   "outputs": [],
   "source": []
  },
  {
   "cell_type": "code",
   "execution_count": null,
   "metadata": {},
   "outputs": [],
   "source": []
  }
 ],
 "metadata": {
  "kernelspec": {
   "display_name": "Python 3",
   "language": "python",
   "name": "python3"
  },
  "language_info": {
   "codemirror_mode": {
    "name": "ipython",
    "version": 3
   },
   "file_extension": ".py",
   "mimetype": "text/x-python",
   "name": "python",
   "nbconvert_exporter": "python",
   "pygments_lexer": "ipython3",
   "version": "3.6.6"
  }
 },
 "nbformat": 4,
 "nbformat_minor": 2
}
