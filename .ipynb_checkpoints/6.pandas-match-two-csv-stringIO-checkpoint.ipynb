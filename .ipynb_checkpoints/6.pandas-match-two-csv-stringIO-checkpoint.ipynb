{
 "cells": [
  {
   "cell_type": "markdown",
   "metadata": {},
   "source": [
    "I have two files, \"master.csv\" and \"data.csv\".\n",
    "\n",
    "master.csv has a single column of data in it, called \"stu_number\".\n",
    "\n",
    "data.csv has like 4 columns of data, starting with the same \"stu_number\", then adding other columns.\n",
    "\n",
    "I need a script to loop through the data.csv file and compare that the stu_number is in the \"master.csv\" file. If the stu_number is also in the 'master' file, then we consider it valid and print out that row of data to an 'output.csv' file. The output file is essentially a list of rows from the data file that match the stu_number. For matching, I'm looking to see if the stu_number exists in both files, and I don't care if a match is on row 100 or row 200. This is why doing a simple 'diff' won't help.\n",
    "\n",
    "Example:\n",
    "\n",
    "Master.csv stu_number 1234 1235 1236\n",
    "\n",
    "Data.csv 1234, blah1, blah2, blah 3 1235, blah1, blah2, blah 3 1238, blah1, blah2, blah 3\n",
    "\n",
    "Output.csv file: 1234, blah1, blah2, blah 3 1235, blah1, blah2, blah 3\n",
    "\n",
    "(Notice there is not a 1238 record since it is not in the master file).\n",
    "\n",
    "I could (in theory) pump this into MySQL and import / select on a join and dump it back to CSV, but that seems like 3 steps too many. I was hoping I could do this in Python.\n",
    "\n",
    "Thanks in advance."
   ]
  },
  {
   "cell_type": "code",
   "execution_count": 1,
   "metadata": {},
   "outputs": [],
   "source": [
    "from io import StringIO\n",
    "import pandas as pd\n",
    "# Master.csv\n",
    "master = StringIO(\"\"\"stu_number\n",
    "1234\n",
    "1235\n",
    "1236\n",
    "\"\"\")\n",
    "# Data.csv\n",
    "data = StringIO(\"\"\"stu_number,x2,x3,x4\n",
    "1234,0,0,0\n",
    "1235,0,0,0\n",
    "1238,0,0,0\n",
    "\"\"\")\n",
    "# Load into pandas dataframe\n",
    "df_master = pd.read_csv(master)\n",
    "df_data = pd.read_csv(data)"
   ]
  },
  {
   "cell_type": "code",
   "execution_count": 2,
   "metadata": {},
   "outputs": [],
   "source": [
    "df_output = df_data[df_data.stu_number.isin(df_master.stu_number)]"
   ]
  },
  {
   "cell_type": "markdown",
   "metadata": {},
   "source": [
    "I'm on a similar situation but in my case the column in master is a string, and i'm trying to see if another column in another file contains words that are similar. how would you go about this problem?\n",
    "\n",
    "Thanks in advance"
   ]
  },
  {
   "cell_type": "code",
   "execution_count": 1,
   "metadata": {},
   "outputs": [],
   "source": [
    "from io import StringIO\n",
    "import pandas as pd\n",
    "# Master.csv\n",
    "master = StringIO(\"\"\"stu_number\n",
    "dogs\n",
    "cats\n",
    "sheep\n",
    "\"\"\")\n",
    "# Data.csv\n",
    "data = StringIO(\"\"\"stu_number,x2,x3,x4\n",
    "horse,1,0,0\n",
    "dogs,2,0,0\n",
    "cats,3,0,0\n",
    "\"\"\")\n",
    "# Pandas query\n",
    "df_master = pd.read_csv(master)\n",
    "df_data = pd.read_csv(data)\n",
    "df_output = df_data[df_data.stu_number.isin(df_master.stu_number)]\n",
    "df_output.to_csv(\"Output.csv\")"
   ]
  },
  {
   "cell_type": "code",
   "execution_count": 6,
   "metadata": {},
   "outputs": [
    {
     "data": {
      "text/html": [
       "<div>\n",
       "<style scoped>\n",
       "    .dataframe tbody tr th:only-of-type {\n",
       "        vertical-align: middle;\n",
       "    }\n",
       "\n",
       "    .dataframe tbody tr th {\n",
       "        vertical-align: top;\n",
       "    }\n",
       "\n",
       "    .dataframe thead th {\n",
       "        text-align: right;\n",
       "    }\n",
       "</style>\n",
       "<table border=\"1\" class=\"dataframe\">\n",
       "  <thead>\n",
       "    <tr style=\"text-align: right;\">\n",
       "      <th></th>\n",
       "      <th>stu_number</th>\n",
       "      <th>x2</th>\n",
       "      <th>x3</th>\n",
       "      <th>x4</th>\n",
       "    </tr>\n",
       "  </thead>\n",
       "  <tbody>\n",
       "    <tr>\n",
       "      <th>1</th>\n",
       "      <td>dogs</td>\n",
       "      <td>2</td>\n",
       "      <td>0</td>\n",
       "      <td>0</td>\n",
       "    </tr>\n",
       "    <tr>\n",
       "      <th>2</th>\n",
       "      <td>cats</td>\n",
       "      <td>3</td>\n",
       "      <td>0</td>\n",
       "      <td>0</td>\n",
       "    </tr>\n",
       "  </tbody>\n",
       "</table>\n",
       "</div>"
      ],
      "text/plain": [
       "  stu_number  x2  x3  x4\n",
       "1       dogs   2   0   0\n",
       "2       cats   3   0   0"
      ]
     },
     "execution_count": 6,
     "metadata": {},
     "output_type": "execute_result"
    }
   ],
   "source": [
    "print(df_output)"
   ]
  },
  {
   "cell_type": "code",
   "execution_count": null,
   "metadata": {},
   "outputs": [],
   "source": []
  }
 ],
 "metadata": {
  "kernelspec": {
   "display_name": "Python 3",
   "language": "python",
   "name": "python3"
  },
  "language_info": {
   "codemirror_mode": {
    "name": "ipython",
    "version": 3
   },
   "file_extension": ".py",
   "mimetype": "text/x-python",
   "name": "python",
   "nbconvert_exporter": "python",
   "pygments_lexer": "ipython3",
   "version": "3.6.6"
  }
 },
 "nbformat": 4,
 "nbformat_minor": 2
}
