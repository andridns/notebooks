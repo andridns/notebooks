{
 "cells": [
  {
   "cell_type": "markdown",
   "metadata": {},
   "source": [
    "I have two files, \"master.csv\" and \"data.csv\".\n",
    "\n",
    "master.csv has a single column of data in it, called \"stu_number\".\n",
    "\n",
    "data.csv has like 4 columns of data, starting with the same \"stu_number\", then adding other columns.\n",
    "\n",
    "I need a script to loop through the data.csv file and compare that the stu_number is in the \"master.csv\" file. If the stu_number is also in the 'master' file, then we consider it valid and print out that row of data to an 'output.csv' file. The output file is essentially a list of rows from the data file that match the stu_number. For matching, I'm looking to see if the stu_number exists in both files, and I don't care if a match is on row 100 or row 200. This is why doing a simple 'diff' won't help.\n",
    "\n",
    "Example:\n",
    "\n",
    "Master.csv stu_number 1234 1235 1236\n",
    "\n",
    "Data.csv 1234, blah1, blah2, blah 3 1235, blah1, blah2, blah 3 1238, blah1, blah2, blah 3\n",
    "\n",
    "Output.csv file: 1234, blah1, blah2, blah 3 1235, blah1, blah2, blah 3\n",
    "\n",
    "(Notice there is not a 1238 record since it is not in the master file).\n",
    "\n",
    "I could (in theory) pump this into MySQL and import / select on a join and dump it back to CSV, but that seems like 3 steps too many. I was hoping I could do this in Python.\n",
    "\n",
    "Thanks in advance."
   ]
  },
  {
   "cell_type": "code",
   "execution_count": 1,
   "metadata": {},
   "outputs": [],
   "source": [
    "from io import StringIO\n",
    "import pandas as pd\n",
    "# Master.csv\n",
    "master = StringIO(\"\"\"stu_number\n",
    "1234\n",
    "1235\n",
    "1236\n",
    "\"\"\")\n",
    "# Data.csv\n",
    "data = StringIO(\"\"\"stu_number,x2,x3,x4\n",
    "1234,0,0,0\n",
    "1235,0,0,0\n",
    "1238,0,0,0\n",
    "\"\"\")\n",
    "# Load into pandas dataframe\n",
    "df_master = pd.read_csv(master)\n",
    "df_data = pd.read_csv(data)"
   ]
  },
  {
   "cell_type": "code",
   "execution_count": 2,
   "metadata": {},
   "outputs": [],
   "source": [
    "df_output = df_data[df_data.stu_number.isin(df_master.stu_number)]"
   ]
  },
  {
   "cell_type": "code",
   "execution_count": null,
   "metadata": {},
   "outputs": [],
   "source": []
  }
 ],
 "metadata": {
  "kernelspec": {
   "display_name": "Python 3",
   "language": "python",
   "name": "python3"
  },
  "language_info": {
   "codemirror_mode": {
    "name": "ipython",
    "version": 3
   },
   "file_extension": ".py",
   "mimetype": "text/x-python",
   "name": "python",
   "nbconvert_exporter": "python",
   "pygments_lexer": "ipython3",
   "version": "3.6.6"
  }
 },
 "nbformat": 4,
 "nbformat_minor": 2
}
