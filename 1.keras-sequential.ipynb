{
 "cells": [
  {
   "cell_type": "code",
   "execution_count": 1,
   "metadata": {},
   "outputs": [
    {
     "name": "stderr",
     "output_type": "stream",
     "text": [
      "Using TensorFlow backend.\n"
     ]
    },
    {
     "data": {
      "text/plain": [
       "'Tensorflow version: 1.9.0, Keras version: 2.2.2'"
      ]
     },
     "execution_count": 1,
     "metadata": {},
     "output_type": "execute_result"
    }
   ],
   "source": [
    "import numpy as np\n",
    "from sklearn.preprocessing import StandardScaler\n",
    "import keras\n",
    "import tensorflow as tf\n",
    "from keras.models import Sequential\n",
    "from keras.layers import Dense\n",
    "from keras.optimizers import Adam\n",
    "print(f\"Tensorflow version: {tf.__version__}, Keras version: {keras.__version__}\")\n",
    "\n",
    "# data\n",
    "train_labels = [68, 65, 67, 71, 69, 72, 75, 70, 85, 83, 88, 80, 80, 78, 79, 85, 88, 86, 92, 91, 91, 93, 93, 90, 96, 97, 100, 100]\n",
    "train_samples = [[2, 1, 73],[4, 0.5, 65],[3, 1, 70],[6, 1, 75],[7, 0.5, 68],[9, 1, 72],[3, 5, 70],[2, 6, 65],[4, 5, 78],[8, 3, 75],[9, 2, 80],[9, 4, 69],[2, 2, 88],[3, 1, 85],[7, 1, 83],[9, 1, 87],[3, 5, 88],[2, 7, 84],[7, 3, 88],[9, 4, 85],[4, 1, 93],[3, 1, 95],[8, 1, 93], [9, 0.5, 92], [3, 5, 94], [2, 7, 96], [8, 4, 97], [7, 5, 94]]\n",
    "train_labels = np.array(train_labels)\n",
    "train_samples = np.array(train_samples)\n",
    "# preprocessing (min-max or standard scaler is fine)\n",
    "sc = StandardScaler()\n",
    "train_samples_scaled = sc.fit_transform(train_samples)\n",
    "print(f\"Feature means before scaling: {train_samples.mean(axis=0)}, Feature means after scaling: {train_samples_scaled.mean(axis=0)}\")\n",
    "\n",
    "# neural network\n",
    "model = Sequential([\n",
    "  Dense(8, input_shape=(3,), activation='relu'),\n",
    "  Dense(16, activation='relu'),\n",
    "  Dense(1, activation='linear')\n",
    "])\n",
    "model.compile(Adam(lr=0.001), loss=\"mse\", metrics = [\"mse\"])\n",
    "# training\n",
    "model.fit(train_samples, train_labels, validation_split = 0.1, batch_size=5, epochs=20, verbose = 2)"
   ]
  },
  {
   "cell_type": "code",
   "execution_count": null,
   "metadata": {},
   "outputs": [],
   "source": []
  },
  {
   "cell_type": "code",
   "execution_count": null,
   "metadata": {},
   "outputs": [],
   "source": []
  },
  {
   "cell_type": "code",
   "execution_count": null,
   "metadata": {},
   "outputs": [],
   "source": []
  }
 ],
 "metadata": {
  "kernelspec": {
   "display_name": "Python 3",
   "language": "python",
   "name": "python3"
  },
  "language_info": {
   "codemirror_mode": {
    "name": "ipython",
    "version": 3
   },
   "file_extension": ".py",
   "mimetype": "text/x-python",
   "name": "python",
   "nbconvert_exporter": "python",
   "pygments_lexer": "ipython3",
   "version": "3.6.6"
  }
 },
 "nbformat": 4,
 "nbformat_minor": 2
}
