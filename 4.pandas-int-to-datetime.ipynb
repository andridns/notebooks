{
 "cells": [
  {
   "cell_type": "code",
   "execution_count": 2,
   "metadata": {},
   "outputs": [
    {
     "name": "stdout",
     "output_type": "stream",
     "text": [
      "   x        y1         y2         y3\n",
      "0  0  0.187900  -0.071801  11.718138\n",
      "1  1  0.456953   3.501602  11.782235\n",
      "2  2 -0.560187   1.687400  13.400834\n",
      "3  3 -0.238768   5.014397  13.882312\n",
      "4  4  0.200842   4.694637  13.687601\n",
      "5  5  0.443189   7.116207  16.701437\n",
      "6  6  1.355683   6.261078  16.587078\n",
      "7  7 -1.452522   9.501810  17.458798\n",
      "8  8 -0.308894  10.160775  17.762103\n",
      "9  9 -0.437884  10.572070  19.774151\n"
     ]
    },
    {
     "name": "stderr",
     "output_type": "stream",
     "text": [
      "C:\\Users\\andri\\Documents\\Anaconda3\\envs\\flask\\lib\\site-packages\\matplotlib\\pyplot.py:3358: RuntimeWarning: Second argument 'y1' is ambiguous: could be a color spec but is in data; using as data.  Either rename the entry in data or use three arguments to plot.\n",
      "  ret = ax.plot(*args, **kwargs)\n",
      "C:\\Users\\andri\\Documents\\Anaconda3\\envs\\flask\\lib\\site-packages\\matplotlib\\pyplot.py:3358: RuntimeWarning: Second argument 'y2' is ambiguous: could be a color spec but is in data; using as data.  Either rename the entry in data or use three arguments to plot.\n",
      "  ret = ax.plot(*args, **kwargs)\n",
      "C:\\Users\\andri\\Documents\\Anaconda3\\envs\\flask\\lib\\site-packages\\matplotlib\\pyplot.py:3358: RuntimeWarning: Second argument 'y3' is ambiguous: could be a color spec but is in data; using as data.  Either rename the entry in data or use three arguments to plot.\n",
      "  ret = ax.plot(*args, **kwargs)\n"
     ]
    },
    {
     "data": {
      "image/png": "[encoded data removed]",
      "text/plain": [
       "<Figure size 432x288 with 1 Axes>"
      ]
     },
     "metadata": {},
     "output_type": "display_data"
    }
   ],
   "source": [
    "import numpy as np\n",
    "import pandas as pd\n",
    "from matplotlib import pyplot as plt\n",
    "%matplotlib inline\n",
    "\n",
    "# Data\n",
    "df=pd.DataFrame({'x': np.arange(10), 'y1': np.random.randn(10), 'y2': np.random.randn(10)+\n",
    "    range(1,11), 'y3': np.random.randn(10)+range(11,21) })\n",
    "\n",
    "df['time'] = (df.x + 6) * pd.Timedelta(1, unit='h')\n",
    "start_date='2018-07-29' # change this date appropriately\n",
    "df['datetime'] = pd.to_datetime(start_date) + (df.x + 6) * pd.Timedelta(1, unit='h')"
   ]
  },
  {
   "cell_type": "code",
   "execution_count": null,
   "metadata": {},
   "outputs": [],
   "source": []
  },
  {
   "cell_type": "code",
   "execution_count": null,
   "metadata": {},
   "outputs": [],
   "source": []
  },
  {
   "cell_type": "code",
   "execution_count": null,
   "metadata": {},
   "outputs": [],
   "source": []
  },
  {
   "cell_type": "code",
   "execution_count": null,
   "metadata": {},
   "outputs": [],
   "source": []
  }
 ],
 "metadata": {
  "kernelspec": {
   "display_name": "Python 3",
   "language": "python",
   "name": "python3"
  },
  "language_info": {
   "codemirror_mode": {
    "name": "ipython",
    "version": 3
   },
   "file_extension": ".py",
   "mimetype": "text/x-python",
   "name": "python",
   "nbconvert_exporter": "python",
   "pygments_lexer": "ipython3",
   "version": "3.6.6"
  }
 },
 "nbformat": 4,
 "nbformat_minor": 2
}
