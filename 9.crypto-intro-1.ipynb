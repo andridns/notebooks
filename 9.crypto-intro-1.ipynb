{
 "cells": [
  {
   "cell_type": "code",
   "execution_count": 1,
   "metadata": {},
   "outputs": [],
   "source": [
    "# I used this code to figure out where the spaces were in each of the encrypted\n",
    "# messages we were given. Since all messages were encrypted with the same key,\n",
    "# we know that doing c1 XOR c2 will produce the same result as doing m1 XOR m2,\n",
    "# assuming c1 = E(m, k) since the key gets cancelled out. \n",
    "# We also know that any [a-z] character XOR with a space will produce that same\n",
    "# character but in upper case. Therefore, we can deduce where the spaces in the \n",
    "# messages are.\n",
    "# After this was done, I was able to recover the first few words of the target\n",
    "# cipher: \"The secret message is\". Using this, I could then get the corresponding\n",
    "# first few letters of the key, which I could then use to decrypt the first few\n",
    "# words of all other messages. From there, I was able to simply use redundancies\n",
    "# in the English language to graudually decrypt the rest of the key, which I could\n",
    "# then use to decrypt the entire target message: \"The secret message is: When using a stream cipher, never use the key more than once\"\n",
    "\n",
    "\n",
    "import string\n",
    "c1 = \"315c4eeaa8b5f8aaf9174145bf43e1784b8fa00dc71d885a804e5ee9fa40b16349c146fb778cdf2d3aff021dfff5b403b510d0d0455468aeb98622b137dae857553ccd8883a7bc37520e06e515d22c954eba5025b8cc57ee59418ce7dc6bc41556bdb36bbca3e8774301fbcaa3b83b220809560987815f65286764703de0f3d524400a19b159610b11ef3e\"\n",
    "c2 = \"234c02ecbbfbafa3ed18510abd11fa724fcda2018a1a8342cf064bbde548b12b07df44ba7191d9606ef4081ffde5ad46a5069d9f7f543bedb9c861bf29c7e205132eda9382b0bc2c5c4b45f919cf3a9f1cb74151f6d551f4480c82b2cb24cc5b028aa76eb7b4ab24171ab3cdadb8356f\"\n",
    "c3 = \"32510ba9a7b2bba9b8005d43a304b5714cc0bb0c8a34884dd91304b8ad40b62b07df44ba6e9d8a2368e51d04e0e7b207b70b9b8261112bacb6c866a232dfe257527dc29398f5f3251a0d47e503c66e935de81230b59b7afb5f41afa8d661cb\"\n",
    "c4 = \"32510ba9aab2a8a4fd06414fb517b5605cc0aa0dc91a8908c2064ba8ad5ea06a029056f47a8ad3306ef5021eafe1ac01a81197847a5c68a1b78769a37bc8f4575432c198ccb4ef63590256e305cd3a9544ee4160ead45aef520489e7da7d835402bca670bda8eb775200b8dabbba246b130f040d8ec6447e2c767f3d30ed81ea2e4c1404e1315a1010e7229be6636aaa\"\n",
    "c5 = \"3f561ba9adb4b6ebec54424ba317b564418fac0dd35f8c08d31a1fe9e24fe56808c213f17c81d9607cee021dafe1e001b21ade877a5e68bea88d61b93ac5ee0d562e8e9582f5ef375f0a4ae20ed86e935de81230b59b73fb4302cd95d770c65b40aaa065f2a5e33a5a0bb5dcaba43722130f042f8ec85b7c2070\"\n",
    "c6 = \"32510bfbacfbb9befd54415da243e1695ecabd58c519cd4bd2061bbde24eb76a19d84aba34d8de287be84d07e7e9a30ee714979c7e1123a8bd9822a33ecaf512472e8e8f8db3f9635c1949e640c621854eba0d79eccf52ff111284b4cc61d11902aebc66f2b2e436434eacc0aba938220b084800c2ca4e693522643573b2c4ce35050b0cf774201f0fe52ac9f26d71b6cf61a711cc229f77ace7aa88a2f19983122b11be87a59c355d25f8e4\"\n",
    "c7 = \"32510bfbacfbb9befd54415da243e1695ecabd58c519cd4bd90f1fa6ea5ba47b01c909ba7696cf606ef40c04afe1ac0aa8148dd066592ded9f8774b529c7ea125d298e8883f5e9305f4b44f915cb2bd05af51373fd9b4af511039fa2d96f83414aaaf261bda2e97b170fb5cce2a53e675c154c0d9681596934777e2275b381ce2e40582afe67650b13e72287ff2270abcf73bb028932836fbdecfecee0a3b894473c1bbeb6b4913a536ce4f9b13f1efff71ea313c8661dd9a4ce\"\n",
    "c8 = \"315c4eeaa8b5f8bffd11155ea506b56041c6a00c8a08854dd21a4bbde54ce56801d943ba708b8a3574f40c00fff9e00fa1439fd0654327a3bfc860b92f89ee04132ecb9298f5fd2d5e4b45e40ecc3b9d59e9417df7c95bba410e9aa2ca24c5474da2f276baa3ac325918b2daada43d6712150441c2e04f6565517f317da9d3\"\n",
    "c9 = \"271946f9bbb2aeadec111841a81abc300ecaa01bd8069d5cc91005e9fe4aad6e04d513e96d99de2569bc5e50eeeca709b50a8a987f4264edb6896fb537d0a716132ddc938fb0f836480e06ed0fcd6e9759f40462f9cf57f4564186a2c1778f1543efa270bda5e933421cbe88a4a52222190f471e9bd15f652b653b7071aec59a2705081ffe72651d08f822c9ed6d76e48b63ab15d0208573a7eef027\"\n",
    "c10 = \"466d06ece998b7a2fb1d464fed2ced7641ddaa3cc31c9941cf110abbf409ed39598005b3399ccfafb61d0315fca0a314be138a9f32503bedac8067f03adbf3575c3b8edc9ba7f537530541ab0f9f3cd04ff50d66f1d559ba520e89a2cb2a83\""
   ]
  },
  {
   "cell_type": "code",
   "execution_count": 23,
   "metadata": {},
   "outputs": [],
   "source": [
    "c1 = \"gluhtlishjrvbadvyyplkaohavbyjpwolypzavvdlhrvuuleatlzzhnlzdpajoavcpnlulyljpwolyrlfdvykpzaolopkkluzftivsvmklhaoputfmhcvypalovsilpuluk\"\n",
    "\n",
    "c2 = \"vwduwljudeehghyhubwklqjlfrxogilqgsohdvhuhwxuqdqbeoxhsulqwviruydxowdqgdodupghvljqedvhgrqzklfkedqnbrxghflghrqldpvhwwlqjxsvdihkrxvhfr\"\n",
    "\n",
    "c3 = \"dog\"\n",
    "\n",
    "c4 = \"\"\"\n",
    "klkbnqlcytfysryucocphgbdizz\n",
    "fcmjwkuchzyeswfogmmetwwossd\n",
    "chrzyldsbwnydednzwnefydthtd\n",
    "dbojicemlucdygicczhoadrzcyl\n",
    "wadsxpilpiecskomoltejtkmqqy\n",
    "mehpmmjxyolwpeewjckznpccpsv\n",
    "sxauyodhalmriocwpelwbcniyfx\n",
    "mwjcemcyrazdqlsomdbfljwnbij\n",
    "xpddsyoehxpceswtoxwbleecsax\n",
    "cnuetzywfn\n",
    "\"\"\""
   ]
  },
  {
   "cell_type": "code",
   "execution_count": null,
   "metadata": {},
   "outputs": [],
   "source": []
  },
  {
   "cell_type": "code",
   "execution_count": 12,
   "metadata": {},
   "outputs": [],
   "source": [
    "def caesar1(s, i):\n",
    "    res = \"\"\n",
    "    for char in s:\n",
    "        res += chr(ord(char)+i)\n",
    "    return res\n",
    "\n",
    "def caesar2(s, shift):\n",
    "    return \"\".join([chr(ord(char)+shift) for char in s])"
   ]
  },
  {
   "cell_type": "code",
   "execution_count": 13,
   "metadata": {},
   "outputs": [],
   "source": [
    "def ch2id(char): return ord(char) - ord('a')"
   ]
  },
  {
   "cell_type": "code",
   "execution_count": 14,
   "metadata": {},
   "outputs": [],
   "source": [
    "def id2ch(i): return chr((i%26)+ord('a'))"
   ]
  },
  {
   "cell_type": "code",
   "execution_count": 15,
   "metadata": {},
   "outputs": [],
   "source": [
    "def caesar3(s, shift):\n",
    "    return \"\".join([id2ch(ch2id(char)+shift) for char in s])"
   ]
  },
  {
   "cell_type": "code",
   "execution_count": null,
   "metadata": {},
   "outputs": [],
   "source": []
  },
  {
   "cell_type": "code",
   "execution_count": 30,
   "metadata": {},
   "outputs": [],
   "source": [
    "keyword = \"skull\""
   ]
  },
  {
   "cell_type": "code",
   "execution_count": 46,
   "metadata": {},
   "outputs": [],
   "source": [
    "def gen_polykey(c, keyword):\n",
    "    return (keyword * round(len(c)/len(keyword)))[:len(c)]"
   ]
  },
  {
   "cell_type": "code",
   "execution_count": 47,
   "metadata": {},
   "outputs": [],
   "source": [
    "key = gen_polykey(c4, keyword)"
   ]
  },
  {
   "cell_type": "code",
   "execution_count": 48,
   "metadata": {},
   "outputs": [
    {
     "data": {
      "text/plain": [
       "(264, 264)"
      ]
     },
     "execution_count": 48,
     "metadata": {},
     "output_type": "execute_result"
    }
   ],
   "source": [
    "len(c4), len(key)"
   ]
  },
  {
   "cell_type": "code",
   "execution_count": null,
   "metadata": {},
   "outputs": [],
   "source": []
  },
  {
   "cell_type": "code",
   "execution_count": 18,
   "metadata": {},
   "outputs": [
    {
     "data": {
      "text/plain": [
       "'startigrabbedeverythingicouldfindpleasereturnanyblueprintsforvaultandalarmdesignbasedonwhichbankyoudecideoniamsettingupsafehouseco'"
      ]
     },
     "execution_count": 18,
     "metadata": {},
     "output_type": "execute_result"
    }
   ],
   "source": [
    "caesar3(c2,23)"
   ]
  },
  {
   "cell_type": "code",
   "execution_count": 21,
   "metadata": {},
   "outputs": [
    {
     "data": {
      "text/plain": [
       "'zenameblackoutworriedthatourcipheristooweakonnextmessageswitchtovigenerecipherkeywordisthehiddensymbolofdeathinmyfavoriteholbeinend'"
      ]
     },
     "execution_count": 21,
     "metadata": {},
     "output_type": "execute_result"
    }
   ],
   "source": [
    "caesar3(c1, 19)"
   ]
  },
  {
   "cell_type": "code",
   "execution_count": 16,
   "metadata": {},
   "outputs": [
    {
     "name": "stdout",
     "output_type": "stream",
     "text": [
      "shift: 0, result: gluhtlishjrvbadvyyplkaohavbyjpwolypzavvdlhrvuuleatlzzhnlzdpajoavcpnlulyljpwolyrlfdvykpzaolopkkluzftivsvmklhaoputfmhcvypalovsilpuluk\n",
      "shift: 1, result: hmviumjtikswcbewzzqmlbpibwczkqxpmzqabwwemiswvvmfbumaaiomaeqbkpbwdqomvmzmkqxpmzsmgewzlqabpmpqllmvagujwtwnlmibpqvugnidwzqbmpwtjmqvmvl\n",
      "shift: 2, result: inwjvnkujltxdcfxaarnmcqjcxdalryqnarbcxxfnjtxwwngcvnbbjpnbfrclqcxerpnwnanlryqnatnhfxamrbcqnqrmmnwbhvkxuxomnjcqrwvhojexarcnqxuknrwnwm\n",
      "shift: 3, result: joxkwolvkmuyedgybbsondrkdyebmszrobscdyygokuyxxohdwocckqocgsdmrdyfsqoxobomszrobuoigybnscdrorsnnoxciwlyvypnokdrsxwipkfybsdoryvlosxoxn\n",
      "shift: 4, result: kpylxpmwlnvzfehzcctpoeslezfcntaspctdezzhplvzyypiexpddlrpdhtensezgtrpypcpntaspcvpjhzcotdespstoopydjxmzwzqoplestyxjqlgzctepszwmptypyo\n",
      "shift: 5, result: lqzmyqnxmowagfiadduqpftmfagdoubtqduefaaiqmwazzqjfyqeemsqeiufotfahusqzqdqoubtqdwqkiadpueftqtuppqzekynaxarpqmftuzykrmhadufqtaxnquzqzp\n",
      "shift: 6, result: mranzroynpxbhgjbeevrqgungbhepvcurevfgbbjrnxbaarkgzrffntrfjvgpugbivtrarerpvcurexrljbeqvfguruvqqraflzobybsqrnguvazlsnibevgrubyorvaraq\n",
      "shift: 7, result: nsboaspzoqycihkcffwsrhvohcifqwdvsfwghccksoycbbslhasggousgkwhqvhcjwusbsfsqwdvsfysmkcfrwghvsvwrrsbgmapczctrsohvwbamtojcfwhsvczpswbsbr\n",
      "shift: 8, result: otcpbtqaprzdjildggxtsiwpidjgrxewtgxhiddltpzdcctmibthhpvthlxirwidkxvtctgtrxewtgztnldgsxhiwtwxsstchnbqdadustpiwxcbnupkdgxitwdaqtxctcs\n",
      "shift: 9, result: pudqcurbqsaekjmehhyutjxqjekhsyfxuhyijeemuqaeddunjcuiiqwuimyjsxjelywuduhusyfxuhauomehtyijxuxyttudiocrebevtuqjxydcovqlehyjuxebruydudt\n",
      "shift: 10, result: qverdvscrtbflknfiizvukyrkflitzgyvizjkffnvrbfeevokdvjjrxvjnzktykfmzxvevivtzgyvibvpnfiuzjkyvyzuuvejpdsfcfwuvrkyzedpwrmfizkvyfcsvzeveu\n",
      "shift: 11, result: rwfsewtdsucgmlogjjawvlzslgmjuahzwjaklggowscgffwplewkksywkoaluzlgnaywfwjwuahzwjcwqogjvaklzwzavvwfkqetgdgxvwslzafeqxsngjalwzgdtwafwfv\n",
      "shift: 12, result: sxgtfxuetvdhnmphkkbxwmatmhnkvbiaxkblmhhpxtdhggxqmfxlltzxlpbmvamhobzxgxkxvbiaxkdxrphkwblmaxabwwxglrfuhehywxtmabgfrytohkbmxaheuxbgxgw\n",
      "shift: 13, result: tyhugyvfuweionqillcyxnbuniolwcjbylcmniiqyueihhyrngymmuaymqcnwbnipcayhylywcjbyleysqilxcmnbybcxxyhmsgvifizxyunbchgszupilcnybifvychyhx\n",
      "shift: 14, result: uzivhzwgvxfjporjmmdzyocvojpmxdkczmdnojjrzvfjiizsohznnvbznrdoxcojqdbzizmzxdkczmfztrjmydnoczcdyyzinthwjgjayzvocdihtavqjmdozcjgwzdiziy\n",
      "shift: 15, result: vajwiaxhwygkqpsknneazpdwpkqnyeldaneopkksawgkjjatpiaoowcaosepydpkrecajanayeldangausknzeopdadezzajouixkhkbzawpdejiubwrknepadkhxaejajz\n",
      "shift: 16, result: wbkxjbyixzhlrqtloofbaqexqlrozfmebofpqlltbxhlkkbuqjbppxdbptfqzeqlsfdbkbobzfmebohbvtloafpqebefaabkpvjylilcabxqefkjvcxslofqbeliybfkbka\n",
      "shift: 17, result: xclykczjyaimsrumppgcbrfyrmspagnfcpgqrmmucyimllcvrkcqqyecqugrafrmtgeclcpcagnfcpicwumpbgqrfcfgbbclqwkzmjmdbcyrfglkwdytmpgrcfmjzcglclb\n",
      "shift: 18, result: ydmzldakzbjntsvnqqhdcsgzsntqbhogdqhrsnnvdzjnmmdwsldrrzfdrvhsbgsnuhfdmdqdbhogdqjdxvnqchrsgdghccdmrxlanknecdzsghmlxezunqhsdgnkadhmdmc\n",
      "shift: 19, result: zenameblackoutworriedthatourcipheristooweakonnextmessageswitchtovigenerecipherkeywordisthehiddensymbolofdeathinmyfavoriteholbeinend\n",
      "shift: 20, result: afobnfcmbdlpvuxpssjfeuibupvsdjqifsjtuppxfblpoofyunfttbhftxjudiupwjhfofsfdjqifslfzxpsejtuifijeefotzncpmpgefbuijonzgbwpsjufipmcfjofoe\n",
      "shift: 21, result: bgpcogdncemqwvyqttkgfvjcvqwtekrjgtkuvqqygcmqppgzvoguuciguykvejvqxkigpgtgekrjgtmgayqtfkuvjgjkffgpuaodqnqhfgcvjkpoahcxqtkvgjqndgkpgpf\n",
      "shift: 22, result: chqdpheodfnrxwzruulhgwkdwrxuflskhulvwrrzhdnrqqhawphvvdjhvzlwfkwryljhqhuhflskhunhbzruglvwkhklgghqvbperorighdwklqpbidyrulwhkroehlqhqg\n",
      "shift: 23, result: direqifpegosyxasvvmihxlexsyvgmtlivmwxssaieosrribxqiwwekiwamxglxszmkirivigmtlivoicasvhmwxlilmhhirwcqfspsjhiexlmrqcjezsvmxilspfimrirh\n",
      "shift: 24, result: ejsfrjgqfhptzybtwwnjiymfytzwhnumjwnxyttbjfptssjcyrjxxfljxbnyhmytanljsjwjhnumjwpjdbtwinxymjmniijsxdrgtqtkijfymnsrdkfatwnyjmtqgjnsjsi\n",
      "shift: 25, result: fktgskhrgiquazcuxxokjzngzuaxiovnkxoyzuuckgquttkdzskyygmkycozinzubomktkxkiovnkxqkecuxjoyznknojjktyeshuruljkgznotselgbuxozknurhkotktj\n"
     ]
    }
   ],
   "source": [
    "for i in range(26):\n",
    "    print(f\"shift: {i}, result: {caesar3(c1, i)}\")"
   ]
  },
  {
   "cell_type": "code",
   "execution_count": 17,
   "metadata": {},
   "outputs": [
    {
     "name": "stdout",
     "output_type": "stream",
     "text": [
      "shift: 0, result: vwduwljudeehghyhubwklqjlfrxogilqgsohdvhuhwxuqdqbeoxhsulqwviruydxowdqgdodupghvljqedvhgrqzklfkedqnbrxghflghrqldpvhwwlqjxsvdihkrxvhfr\n",
      "shift: 1, result: wxevxmkveffihizivcxlmrkmgsyphjmrhtpiewivixyvrercfpyitvmrxwjsvzeypxerhepevqhiwmkrfewihsralmglferocsyhigmhisrmeqwixxmrkytwejilsywigs\n",
      "shift: 2, result: xyfwynlwfggjijajwdymnslnhtzqiknsiuqjfxjwjyzwsfsdgqzjuwnsyxktwafzqyfsifqfwrijxnlsgfxjitsbmnhmgfspdtzijhnijtsnfrxjyynslzuxfkjmtzxjht\n",
      "shift: 3, result: yzgxzomxghhkjkbkxeznotmoiuarjlotjvrkgykxkzaxtgtehrakvxotzyluxbgarzgtjgrgxsjkyomthgykjutcnoinhgtqeuajkiojkutogsykzzotmavyglknuaykiu\n",
      "shift: 4, result: zahyapnyhiilklclyfaopunpjvbskmpukwslhzlylabyuhufisblwypuazmvychbsahukhshytklzpnuihzlkvudopjoihurfvbkljpklvuphtzlaapunbwzhmlovbzljv\n",
      "shift: 5, result: abizbqozijjmlmdmzgbpqvoqkwctlnqvlxtmiamzmbczvivgjtcmxzqvbanwzdictbivlitizulmaqovjiamlwvepqkpjivsgwclmkqlmwvqiuambbqvocxainmpwcamkw\n",
      "shift: 6, result: bcjacrpajkknmnenahcqrwprlxdumorwmyunjbnancdawjwhkudnyarwcboxaejducjwmjujavmnbrpwkjbnmxwfqrlqkjwthxdmnlrmnxwrjvbnccrwpdybjonqxdbnlx\n",
      "shift: 7, result: cdkbdsqbkllonofobidrsxqsmyevnpsxnzvokcobodebxkxilveozbsxdcpybfkevdkxnkvkbwnocsqxlkconyxgrsmrlkxuiyenomsnoyxskwcoddsxqezckporyecomy\n",
      "shift: 8, result: delcetrclmmpopgpcjestyrtnzfwoqtyoawpldpcpefcylyjmwfpactyedqzcglfwelyolwlcxopdtrymldpozyhstnsmlyvjzfopntopzytlxdpeetyrfadlqpszfdpnz\n",
      "shift: 9, result: efmdfusdmnnqpqhqdkftuzsuoagxpruzpbxqmeqdqfgdzmzknxgqbduzferadhmgxfmzpmxmdypqeusznmeqpazituotnmzwkagpqoupqazumyeqffuzsgbemrqtageqoa\n",
      "shift: 10, result: fgnegvtenoorqrirelguvatvpbhyqsvaqcyrnfrergheanaloyhrcevagfsbeinhygnaqnynezqrfvtaonfrqbajuvpuonaxlbhqrpvqrbavnzfrggvathcfnsrubhfrpb\n",
      "shift: 11, result: ghofhwufoppsrsjsfmhvwbuwqcizrtwbrdzsogsfshifbobmpzisdfwbhgtcfjoizhobrozofarsgwubpogsrcbkvwqvpobymcirsqwrscbwoagshhwbuidgotsvcigsqc\n",
      "shift: 12, result: hipgixvgpqqtstktgniwxcvxrdjasuxcseatphtgtijgcpcnqajtegxcihudgkpjaipcspapgbsthxvcqphtsdclwxrwqpczndjstrxstdcxpbhtiixcvjehputwdjhtrd\n",
      "shift: 13, result: ijqhjywhqrrutuluhojxydwysekbtvydtfbuqiuhujkhdqdorbkufhydjivehlqkbjqdtqbqhctuiywdrqiutedmxysxrqdaoektusytuedyqciujjydwkfiqvuxekiuse\n",
      "shift: 14, result: jkrikzxirssvuvmvipkyzexztflcuwzeugcvrjvivklierepsclvgizekjwfimrlckreurcriduvjzxesrjvufenyztysrebpfluvtzuvfezrdjvkkzexlgjrwvyfljvtf\n",
      "shift: 15, result: klsjlayjsttwvwnwjqlzafyaugmdvxafvhdwskwjwlmjfsfqtdmwhjaflkxgjnsmdlsfvsdsjevwkayftskwvgfozauztsfcqgmvwuavwgfasekwllafymhksxwzgmkwug\n",
      "shift: 16, result: lmtkmbzktuuxwxoxkrmabgzbvhnewybgwiextlxkxmnkgtgruenxikbgmlyhkotnemtgwtetkfwxlbzgutlxwhgpabvautgdrhnwxvbwxhgbtflxmmbgzniltyxahnlxvh\n",
      "shift: 17, result: mnulncaluvvyxypylsnbchacwiofxzchxjfyumylynolhuhsvfoyjlchnmzilpuofnuhxufulgxymcahvumyxihqbcwbvuhesioxywcxyihcugmynnchaojmuzybiomywi\n",
      "shift: 18, result: novmodbmvwwzyzqzmtocdibdxjpgyadiykgzvnzmzopmivitwgpzkmdionajmqvpgoviyvgvmhyzndbiwvnzyjircdxcwviftjpyzxdyzjidvhnzoodibpknvazcjpnzxj\n",
      "shift: 19, result: opwnpecnwxxazaranupdejceykqhzbejzlhawoanapqnjwjuxhqalnejpobknrwqhpwjzwhwnizaoecjxwoazkjsdeydxwjgukqzayezakjewioappejcqlowbadkqoayk\n",
      "shift: 20, result: pqxoqfdoxyybabsbovqefkdfzlriacfkamibxpbobqrokxkvyirbmofkqpclosxriqxkaxixojabpfdkyxpbalktefzeyxkhvlrabzfablkfxjpbqqfkdrmpxcbelrpbzl\n",
      "shift: 21, result: qryprgepyzzcbctcpwrfglegamsjbdglbnjcyqcpcrsplylwzjscnpglrqdmptysjrylbyjypkbcqgelzyqcbmlufgafzyliwmsbcagbcmlgykqcrrglesnqydcfmsqcam\n",
      "shift: 22, result: rszqshfqzaadcdudqxsghmfhbntkcehmcokdzrdqdstqmzmxaktdoqhmsrenquztkszmczkzqlcdrhfmazrdcnmvghbgazmjxntcdbhcdnmhzlrdsshmftorzedgntrdbn\n",
      "shift: 23, result: startigrabbedeverythingicouldfindpleasereturnanyblueprintsforvaultandalarmdesignbasedonwhichbankyoudecideoniamsettingupsafehouseco\n",
      "shift: 24, result: tubsujhsbccfefwfszuijohjdpvmegjoeqmfbtfsfuvsobozcmvfqsjoutgpswbvmuboebmbsneftjhocbtfepoxijdicbolzpvefdjefpojbntfuujohvqtbgfipvtfdp\n",
      "shift: 25, result: uvctvkitcddgfgxgtavjkpikeqwnfhkpfrngcugtgvwtpcpadnwgrtkpvuhqtxcwnvcpfcnctofgukipdcugfqpyjkejdcpmaqwfgekfgqpkcougvvkpiwruchgjqwugeq\n"
     ]
    }
   ],
   "source": [
    "for i in range(26):\n",
    "    print(f\"shift: {i}, result: {caesar3(c2, i)}\")"
   ]
  },
  {
   "cell_type": "code",
   "execution_count": null,
   "metadata": {},
   "outputs": [],
   "source": []
  },
  {
   "cell_type": "code",
   "execution_count": null,
   "metadata": {},
   "outputs": [],
   "source": []
  },
  {
   "cell_type": "code",
   "execution_count": null,
   "metadata": {},
   "outputs": [],
   "source": []
  },
  {
   "cell_type": "code",
   "execution_count": null,
   "metadata": {},
   "outputs": [],
   "source": [
    "chr(98)"
   ]
  },
  {
   "cell_type": "code",
   "execution_count": null,
   "metadata": {},
   "outputs": [],
   "source": [
    "chr(ord('d') ^ ord('c'))"
   ]
  },
  {
   "cell_type": "code",
   "execution_count": null,
   "metadata": {},
   "outputs": [],
   "source": []
  },
  {
   "cell_type": "code",
   "execution_count": null,
   "metadata": {},
   "outputs": [],
   "source": [
    "target = \"32510ba9babebbbefd001547a810e67149caee11d945cd7fc81a05e9f85aac650e9052ba6a8cd8257bf14d13e6f0a803b54fde9e77472dbff89d71b57bddef121336cb85ccb8f3315f4b52e301d16e9f52f904\"\n",
    "\n",
    "ciphers = [c1, c2, c3, c4, c5, c6, c7, c8, c9, c10]\n",
    "\n",
    "def strxor(a, b):     # xor two strings (trims the longer input)\n",
    "    return \"\".join([chr(ord(x) ^ ord(y)) for (x, y) in zip(a, b)])\n",
    "\n",
    "def main():\n",
    "    decoded_texts = [x.decode('hex') for x in ciphers]\n",
    "    decoded_target = target.decode('hex')\n",
    "    x_ord_with_target = [strxor(decoded_target, text) for text in decoded_texts]\n",
    "\n",
    "    guess = [\"-\"] * len(decoded_target)\n",
    "\n",
    "    message_spaces = []\n",
    "    for text in decoded_texts:\n",
    "        space_guess = [\"-\"] * len(text)\n",
    "        other_messages_x_ors = [strxor(other, text) for other in decoded_texts if other != text]\n",
    "        for i in range(len(text)):\n",
    "            isSpace = True\n",
    "            for message in other_messages_x_ors:\n",
    "                if i >= len(message): \n",
    "                    continue\n",
    "                # Since spaces are very common, we assume that a '\\x00', which indicates\n",
    "                # that the two corresponding characters in the original messages were the same,\n",
    "                # implies that we have two spaces on top of each other. So it is only NOT a space\n",
    "                # if the character did not map to a letter in [A-Z] AND the two characters were not\n",
    "                # the same\n",
    "                elif message[i] != '\\x00' and message[i] not in string.letters:\n",
    "                    isSpace = False\n",
    "            if isSpace:\n",
    "                space_guess[i] = \" \"\n",
    "        message_spaces.append(space_guess)\n",
    "\n",
    "    for index in range(len(message_spaces)):\n",
    "        spaces_in_message = message_spaces[index]\n",
    "        msg_xord_with_target = x_ord_with_target[index]\n",
    "        for pos in range(len(spaces_in_message)):\n",
    "            if pos >= len(guess): break\n",
    "            if spaces_in_message[pos] == \" \":\n",
    "                guess[pos] = msg_xord_with_target[pos].swapcase()\n",
    "    print \"\".join(guess)"
   ]
  },
  {
   "cell_type": "code",
   "execution_count": null,
   "metadata": {},
   "outputs": [],
   "source": []
  }
 ],
 "metadata": {
  "kernelspec": {
   "display_name": "Python 3",
   "language": "python",
   "name": "python3"
  },
  "language_info": {
   "codemirror_mode": {
    "name": "ipython",
    "version": 3
   },
   "file_extension": ".py",
   "mimetype": "text/x-python",
   "name": "python",
   "nbconvert_exporter": "python",
   "pygments_lexer": "ipython3",
   "version": "3.6.5"
  }
 },
 "nbformat": 4,
 "nbformat_minor": 2
}
