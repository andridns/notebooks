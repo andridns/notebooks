{
 "cells": [
  {
   "cell_type": "code",
   "execution_count": 5,
   "metadata": {},
   "outputs": [],
   "source": [
    "import re\n",
    "from pathlib import Path\n",
    "from requests_html import HTMLSession\n",
    "sess = HTMLSession()"
   ]
  },
  {
   "cell_type": "code",
   "execution_count": 2,
   "metadata": {},
   "outputs": [],
   "source": [
    "url = \"http://46.166.167.16/forums/pemaksaan.44/\"\n"
   ]
  },
  {
   "cell_type": "code",
   "execution_count": 3,
   "metadata": {},
   "outputs": [],
   "source": [
    "r = sess.get(url)"
   ]
  },
  {
   "cell_type": "code",
   "execution_count": 4,
   "metadata": {},
   "outputs": [
    {
     "data": {
      "text/plain": [
       "{'/',\n",
       " '/forums/pemaksaan.44/#navigation',\n",
       " '/help/advertise/',\n",
       " '/help/dmca/',\n",
       " '/help/statistic/',\n",
       " '/misc/contact',\n",
       " 'account/dismiss-notice?notice_id=15',\n",
       " 'find-new/posts',\n",
       " 'forums/-/index.rss',\n",
       " 'forums/pemaksaan.44/',\n",
       " 'forums/pemaksaan.44/?direction=asc',\n",
       " 'forums/pemaksaan.44/?order=post_date',\n",
       " 'forums/pemaksaan.44/?order=reply_count',\n",
       " 'forums/pemaksaan.44/?order=title',\n",
       " 'forums/pemaksaan.44/?order=view_count',\n",
       " 'forums/pemaksaan.44/?prefix_id=34',\n",
       " 'forums/pemaksaan.44/?prefix_id=35',\n",
       " 'forums/pemaksaan.44/page-19',\n",
       " 'forums/pemaksaan.44/page-2',\n",
       " 'forums/pemaksaan.44/page-3',\n",
       " 'forums/pemaksaan.44/page-4',\n",
       " 'forums/pemaksaan.44/page-5',\n",
       " 'forums/pemaksaan.44/page-6',\n",
       " 'help/',\n",
       " 'help/privacy-policy',\n",
       " 'help/terms',\n",
       " 'http://46.166.167.16/',\n",
       " 'http://46.166.167.16/#khas-semprot.6',\n",
       " 'http://46.166.167.16/forums/cerita.42/',\n",
       " 'http://tinyurl.com/cintasemprot',\n",
       " 'http://tinyurl.com/ya7zpe8t',\n",
       " 'http://www.facebook.com/semprot',\n",
       " 'http://xf.themehouse.com/',\n",
       " 'https://twitter.com/semprotcom',\n",
       " 'login/',\n",
       " 'lost-password/',\n",
       " 'members/aquererra.831475/',\n",
       " 'members/aradara11.723449/',\n",
       " 'members/bambang_s.536832/',\n",
       " 'members/boncu15.840530/',\n",
       " 'members/britania820.875837/',\n",
       " 'members/broetals.35172/',\n",
       " 'members/capo88.539325/',\n",
       " 'members/dloco.671687/',\n",
       " 'members/dorkyboy.604734/',\n",
       " 'members/eddykwa.388049/',\n",
       " 'members/ethansamodra.746131/',\n",
       " 'members/fernando26.693526/',\n",
       " 'members/firenzeviper.664085/',\n",
       " 'members/forandsix.869274/',\n",
       " 'members/franco363.709870/',\n",
       " 'members/gimbal-slow.514003/',\n",
       " 'members/hungry_baby.382838/',\n",
       " 'members/javkomplit.253836/',\n",
       " 'members/josephjoestar.1009746/',\n",
       " 'members/k1r4k1sh0u.550311/',\n",
       " 'members/lagimabok.475306/',\n",
       " 'members/marcioz.305432/',\n",
       " 'members/marley90.781434/',\n",
       " 'members/masbrohan.904663/',\n",
       " 'members/mascoro.483342/',\n",
       " 'members/nightchronos.714797/',\n",
       " 'members/nnamed.192344/',\n",
       " 'members/pendekar-koplak.687033/',\n",
       " 'members/phantom777.969310/',\n",
       " 'members/pimp-lord.341177/',\n",
       " 'members/pussydog.682543/',\n",
       " 'members/putcaroline.504216/',\n",
       " 'members/reyhanerwin.840830/',\n",
       " 'members/rezzo.494814/',\n",
       " 'members/satria01.309024/',\n",
       " 'members/vanbesgo27.783861/',\n",
       " 'members/xmohamed.488692/',\n",
       " 'members/yohan_13.674791/',\n",
       " 'misc/contact',\n",
       " 'misc/language?redirect=%2Fforums%2Fpemaksaan.44%2F',\n",
       " 'misc/quick-navigation-menu?selected=node-44',\n",
       " 'threads/aku-dosen-beruntung-mahasiswi-jilbab-copas.1261332/',\n",
       " 'threads/aku-dosen-beruntung-mahasiswi-jilbab-copas.1261332/page-2',\n",
       " 'threads/badan-enak-mahasiswi-remake-by-marcioz-tamat.1268774/',\n",
       " 'threads/badan-enak-mahasiswi-remake-by-marcioz-tamat.1268774/page-31',\n",
       " 'threads/badan-enak-mahasiswi-remake-by-marcioz-tamat.1268774/page-32',\n",
       " 'threads/badan-enak-mahasiswi-remake-by-marcioz-tamat.1268774/page-33',\n",
       " 'threads/bem-badan-enak-mahasiswi.1219898/',\n",
       " 'threads/bem-badan-enak-mahasiswi.1219898/page-54',\n",
       " 'threads/bem-badan-enak-mahasiswi.1219898/page-55',\n",
       " 'threads/bem-badan-enak-mahasiswi.1219898/page-56',\n",
       " 'threads/dara-the-innocent.1283682/',\n",
       " 'threads/di-sebuah-panti-pijat-by-mascoro.1203719/',\n",
       " 'threads/di-sebuah-panti-pijat-by-mascoro.1203719/page-2',\n",
       " 'threads/di-sebuah-panti-pijat-by-mascoro.1203719/page-3',\n",
       " 'threads/fenny-a-tribute-a-fanfic-a-spin-off-tamat.1268239/',\n",
       " 'threads/fenny-a-tribute-a-fanfic-a-spin-off-tamat.1268239/page-6',\n",
       " 'threads/fenny-a-tribute-a-fanfic-a-spin-off-tamat.1268239/page-7',\n",
       " 'threads/fenny-a-tribute-a-fanfic-a-spin-off-tamat.1268239/page-8',\n",
       " 'threads/gara-gara-telat-bangun-real-story.1249547/',\n",
       " 'threads/gara-gara-telat-bangun-real-story.1249547/page-17',\n",
       " 'threads/gara-gara-telat-bangun-real-story.1249547/page-18',\n",
       " 'threads/gara-gara-telat-bangun-real-story.1249547/page-19',\n",
       " 'threads/jalanin-aja-dulu.1279653/',\n",
       " 'threads/jalanin-aja-dulu.1279653/page-2',\n",
       " 'threads/jalanin-aja-dulu.1279653/page-3',\n",
       " 'threads/judul-cerita-panas-pemerkosa-update.973838/',\n",
       " 'threads/karyawan-bodoh-diperkosa.1280049/',\n",
       " 'threads/karyawan-bodoh-diperkosa.1280049/page-3',\n",
       " 'threads/karyawan-bodoh-diperkosa.1280049/page-4',\n",
       " 'threads/karyawan-bodoh-diperkosa.1280049/page-5',\n",
       " 'threads/memperbudak-hilda-si-tetangga-yang-bohay.1270902/',\n",
       " 'threads/memperbudak-hilda-si-tetangga-yang-bohay.1270902/page-6',\n",
       " 'threads/memperbudak-hilda-si-tetangga-yang-bohay.1270902/page-7',\n",
       " 'threads/memperbudak-hilda-si-tetangga-yang-bohay.1270902/page-8',\n",
       " 'threads/my-rape-my-adventure.1246887/',\n",
       " 'threads/my-rape-my-adventure.1246887/page-44',\n",
       " 'threads/my-rape-my-adventure.1246887/page-45',\n",
       " 'threads/my-rape-my-adventure.1246887/page-46',\n",
       " 'threads/nikmatilah-istriku-yang-cantik-dan-polos-ini.1219536/',\n",
       " 'threads/nikmatilah-istriku-yang-cantik-dan-polos-ini.1219536/page-33',\n",
       " 'threads/nikmatilah-istriku-yang-cantik-dan-polos-ini.1219536/page-34',\n",
       " 'threads/nikmatilah-istriku-yang-cantik-dan-polos-ini.1219536/page-35',\n",
       " 'threads/penderitaan-fenny.1209802/',\n",
       " 'threads/penderitaan-fenny.1209802/page-26',\n",
       " 'threads/penderitaan-fenny.1209802/page-27',\n",
       " 'threads/penderitaan-fenny.1209802/page-28',\n",
       " 'threads/perkosa-pembantu-cantik-dan-masih-perawan.1273349/',\n",
       " 'threads/perkosaan-rame2-dalam-permainan.1246705/',\n",
       " 'threads/perkosaan-rame2-dalam-permainan.1246705/page-24',\n",
       " 'threads/perkosaan-rame2-dalam-permainan.1246705/page-25',\n",
       " 'threads/perkosaan-rame2-dalam-permainan.1246705/page-26',\n",
       " 'threads/predator.1071030/',\n",
       " 'threads/predator.1071030/page-26',\n",
       " 'threads/predator.1071030/page-27',\n",
       " 'threads/predator.1071030/page-28',\n",
       " 'threads/rules-cerita-panas-pemerkosa-wajib-baca-sebelum-posting.972659/',\n",
       " 'threads/rumah-kost-no-39-sherly.1067026/',\n",
       " 'threads/tania-budak-seks-dosen-pembimbing.1261325/',\n",
       " 'threads/tania-budak-seks-dosen-pembimbing.1261325/page-10',\n",
       " 'threads/tania-budak-seks-dosen-pembimbing.1261325/page-11',\n",
       " 'threads/tania-budak-seks-dosen-pembimbing.1261325/page-9',\n",
       " 'threads/tante-nathalie-dikerjain-tukang-bully-anaknya.1284753/',\n",
       " 'threads/tante-nathalie-dikerjain-tukang-bully-anaknya.1284753/page-2',\n",
       " 'threads/terpaksa-aku-harus-begini.1246537/',\n",
       " 'threads/terpaksa-aku-harus-begini.1246537/page-2',\n",
       " 'threads/terpaksa-aku-harus-begini.1246537/page-3',\n",
       " 'threads/terpaksa-aku-harus-begini.1246537/page-4',\n",
       " 'yum.php?go=alpha4dcc',\n",
       " 'yum.php?go=asiabetfooter',\n",
       " 'yum.php?go=asiatogel88pc',\n",
       " 'yum.php?go=bigbonus88',\n",
       " 'yum.php?go=bolaparlay',\n",
       " 'yum.php?go=casino198',\n",
       " 'yum.php?go=fassbet',\n",
       " 'yum.php?go=gadingkartu',\n",
       " 'yum.php?go=ingatbola88',\n",
       " 'yum.php?go=javtoys',\n",
       " 'yum.php?go=jpbet',\n",
       " 'yum.php?go=kakakdewasemprot',\n",
       " 'yum.php?go=liga888cash',\n",
       " 'yum.php?go=livescore9',\n",
       " 'yum.php?go=maxbet268_20171005',\n",
       " 'yum.php?go=mei2poker',\n",
       " 'yum.php?go=royalpoker99',\n",
       " 'yum.php?go=seniorbola',\n",
       " 'yum.php?go=simpatikartu',\n",
       " 'yum.php?go=tahunqq',\n",
       " 'yum.php?go=texaspokerheader',\n",
       " 'yum.php?go=togelmatrix',\n",
       " 'yum.php?go=v9betdesktop',\n",
       " 'yum.php?go=vivo7bet',\n",
       " 'yum.php?go=wahana303header',\n",
       " 'yum.php?go=wigobet'}"
      ]
     },
     "execution_count": 4,
     "metadata": {},
     "output_type": "execute_result"
    }
   ],
   "source": [
    "r.html.links"
   ]
  },
  {
   "cell_type": "code",
   "execution_count": null,
   "metadata": {},
   "outputs": [],
   "source": []
  },
  {
   "cell_type": "code",
   "execution_count": 53,
   "metadata": {},
   "outputs": [
    {
     "data": {
      "text/plain": [
       "'.\\\\d{7}/'"
      ]
     },
     "execution_count": 53,
     "metadata": {},
     "output_type": "execute_result"
    }
   ],
   "source": [
    "PATTERN = r'.\\d{7}/'\n",
    "PATTERN"
   ]
  },
  {
   "cell_type": "code",
   "execution_count": 89,
   "metadata": {},
   "outputs": [
    {
     "data": {
      "text/plain": [
       "'\\\\w+.\\\\d{7}[/]'"
      ]
     },
     "execution_count": 89,
     "metadata": {},
     "output_type": "execute_result"
    }
   ],
   "source": [
    "PATTERN = r'\\w+.\\d{7}'\n",
    "PATTERN"
   ]
  },
  {
   "cell_type": "code",
   "execution_count": 127,
   "metadata": {},
   "outputs": [
    {
     "data": {
      "text/plain": [
       "'[\\\\d]{3,12}[/]$'"
      ]
     },
     "execution_count": 127,
     "metadata": {},
     "output_type": "execute_result"
    }
   ],
   "source": [
    "PATTERN = r'[\\d]{3,12}[/]$'\n",
    "PATTERN"
   ]
  },
  {
   "cell_type": "code",
   "execution_count": 128,
   "metadata": {},
   "outputs": [
    {
     "data": {
      "text/plain": [
       "['threads/memperbudak-hilda-si-tetangga-yang-bohay.1270902/',\n",
       " 'threads/di-sebuah-panti-pijat-by-mascoro.1203719/',\n",
       " 'threads/karyawan-bodoh-diperkosa.1280049/',\n",
       " 'threads/tania-budak-seks-dosen-pembimbing.1261325/',\n",
       " 'threads/bem-badan-enak-mahasiswi.1219898/',\n",
       " 'threads/jalanin-aja-dulu.1279653/',\n",
       " 'threads/terpaksa-aku-harus-begini.1246537/',\n",
       " 'threads/my-rape-my-adventure.1246887/',\n",
       " 'threads/aku-dosen-beruntung-mahasiswi-jilbab-copas.1261332/',\n",
       " 'threads/penderitaan-fenny.1209802/',\n",
       " 'threads/tante-nathalie-dikerjain-tukang-bully-anaknya.1284753/',\n",
       " 'threads/judul-cerita-panas-pemerkosa-update.973838/',\n",
       " 'threads/predator.1071030/',\n",
       " 'threads/dara-the-innocent.1283682/',\n",
       " 'threads/nikmatilah-istriku-yang-cantik-dan-polos-ini.1219536/',\n",
       " 'threads/rules-cerita-panas-pemerkosa-wajib-baca-sebelum-posting.972659/',\n",
       " 'threads/perkosaan-rame2-dalam-permainan.1246705/',\n",
       " 'threads/rumah-kost-no-39-sherly.1067026/',\n",
       " 'threads/badan-enak-mahasiswi-remake-by-marcioz-tamat.1268774/',\n",
       " 'threads/fenny-a-tribute-a-fanfic-a-spin-off-tamat.1268239/',\n",
       " 'threads/gara-gara-telat-bangun-real-story.1249547/',\n",
       " 'threads/perkosa-pembantu-cantik-dan-masih-perawan.1273349/']"
      ]
     },
     "execution_count": 128,
     "metadata": {},
     "output_type": "execute_result"
    }
   ],
   "source": [
    "[u for u in list(r.html.links) if re.search(PATTERN, u) and 'threads' in u]"
   ]
  },
  {
   "cell_type": "code",
   "execution_count": null,
   "metadata": {},
   "outputs": [],
   "source": []
  },
  {
   "cell_type": "code",
   "execution_count": null,
   "metadata": {},
   "outputs": [],
   "source": []
  },
  {
   "cell_type": "code",
   "execution_count": null,
   "metadata": {},
   "outputs": [],
   "source": []
  },
  {
   "cell_type": "code",
   "execution_count": null,
   "metadata": {},
   "outputs": [],
   "source": []
  },
  {
   "cell_type": "code",
   "execution_count": null,
   "metadata": {},
   "outputs": [],
   "source": []
  },
  {
   "cell_type": "code",
   "execution_count": 46,
   "metadata": {},
   "outputs": [
    {
     "data": {
      "text/plain": [
       "'threads/gara-gara-telat-bangun-real-story.1249547/page-17'"
      ]
     },
     "execution_count": 46,
     "metadata": {},
     "output_type": "execute_result"
    }
   ],
   "source": [
    "u"
   ]
  },
  {
   "cell_type": "code",
   "execution_count": null,
   "metadata": {},
   "outputs": [],
   "source": []
  },
  {
   "cell_type": "code",
   "execution_count": null,
   "metadata": {},
   "outputs": [],
   "source": []
  },
  {
   "cell_type": "code",
   "execution_count": 43,
   "metadata": {},
   "outputs": [
    {
     "data": {
      "text/plain": [
       "False"
      ]
     },
     "execution_count": 43,
     "metadata": {},
     "output_type": "execute_result"
    }
   ],
   "source": [
    "re.search(PATTERN, u) == True"
   ]
  },
  {
   "cell_type": "code",
   "execution_count": 37,
   "metadata": {},
   "outputs": [
    {
     "name": "stdout",
     "output_type": "stream",
     "text": [
      "WOW\n"
     ]
    }
   ],
   "source": [
    "if re.search(PATTERN, u): print('WOW')"
   ]
  },
  {
   "cell_type": "code",
   "execution_count": 33,
   "metadata": {},
   "outputs": [
    {
     "ename": "TypeError",
     "evalue": "'in <string>' requires string as left operand, not _sre.SRE_Pattern",
     "output_type": "error",
     "traceback": [
      "\u001b[1;31m---------------------------------------------------------------------------\u001b[0m",
      "\u001b[1;31mTypeError\u001b[0m                                 Traceback (most recent call last)",
      "\u001b[1;32m<ipython-input-33-546e12653c8e>\u001b[0m in \u001b[0;36m<module>\u001b[1;34m()\u001b[0m\n\u001b[1;32m----> 1\u001b[1;33m \u001b[0mre\u001b[0m\u001b[1;33m.\u001b[0m\u001b[0mcompile\u001b[0m\u001b[1;33m(\u001b[0m\u001b[0mPATTERN\u001b[0m\u001b[1;33m)\u001b[0m \u001b[1;32min\u001b[0m \u001b[0mu\u001b[0m\u001b[1;33m\u001b[0m\u001b[0m\n\u001b[0m",
      "\u001b[1;31mTypeError\u001b[0m: 'in <string>' requires string as left operand, not _sre.SRE_Pattern"
     ]
    }
   ],
   "source": [
    "re.compile(PATTERN) in u"
   ]
  },
  {
   "cell_type": "code",
   "execution_count": null,
   "metadata": {},
   "outputs": [],
   "source": []
  },
  {
   "cell_type": "code",
   "execution_count": 20,
   "metadata": {},
   "outputs": [
    {
     "data": {
      "text/plain": [
       "''"
      ]
     },
     "execution_count": 20,
     "metadata": {},
     "output_type": "execute_result"
    }
   ],
   "source": [
    "sub('12345678')"
   ]
  },
  {
   "cell_type": "code",
   "execution_count": null,
   "metadata": {},
   "outputs": [],
   "source": []
  },
  {
   "cell_type": "code",
   "execution_count": null,
   "metadata": {},
   "outputs": [],
   "source": []
  },
  {
   "cell_type": "code",
   "execution_count": null,
   "metadata": {},
   "outputs": [],
   "source": []
  },
  {
   "cell_type": "code",
   "execution_count": null,
   "metadata": {},
   "outputs": [],
   "source": []
  },
  {
   "cell_type": "markdown",
   "metadata": {},
   "source": [
    "#### Site to mine: https://www.mindat.org/photos/555/\n",
    "#### Sample jpg: https://www.mindat.org/photos/555/01/0555010001421587987.jpg\n",
    "#### HTTP Get Request has to have a referer to parent directory"
   ]
  },
  {
   "cell_type": "code",
   "execution_count": 2,
   "metadata": {},
   "outputs": [],
   "source": [
    "import os\n",
    "import tqdm\n",
    "import requests\n",
    "from requests_html import HTMLSession"
   ]
  },
  {
   "cell_type": "markdown",
   "metadata": {},
   "source": [
    "Helper Functions"
   ]
  },
  {
   "cell_type": "code",
   "execution_count": 3,
   "metadata": {},
   "outputs": [],
   "source": [
    "def printf(s):\n",
    "    if DEBUG: print(s)\n",
    "\n",
    "def loc_path(url): \n",
    "    \"\"\"Local path without https url\"\"\"\n",
    "    return url[len(ROOT_URL):] if IS_FOLDERS else url.split('/')[-1]\n",
    "\n",
    "def mkdir_loc(url):\n",
    "    \"\"\"Create sub-folders in local directory.\"\"\"\n",
    "    if IS_FOLDERS and not os.path.exists(loc_path(url)):\n",
    "        os.mkdir(loc_path(url))\n",
    "        printf(f\"Created folder at {loc_path(url)}\")\n",
    "\n",
    "def try_http_get(url, **kwargs):\n",
    "    try:\n",
    "        headers = kwargs.get('headers')\n",
    "        r = sess.get(url, headers=headers)\n",
    "        return r\n",
    "    except requests.exceptions.RequestException as e:\n",
    "        print(e, url)\n",
    "        return None"
   ]
  },
  {
   "cell_type": "code",
   "execution_count": 4,
   "metadata": {},
   "outputs": [],
   "source": [
    "### INPUTS ###\n",
    "IS_FOLDERS = True\n",
    "DEBUG = True\n",
    "ROOT_URL = 'https://www.mindat.org/'\n",
    "PARENT_DIR = 'photos/'\n",
    "### END INPUTS ###"
   ]
  },
  {
   "cell_type": "code",
   "execution_count": 5,
   "metadata": {},
   "outputs": [],
   "source": [
    "# create HTML session\n",
    "sess = HTMLSession()"
   ]
  },
  {
   "cell_type": "code",
   "execution_count": 6,
   "metadata": {
    "scrolled": false
   },
   "outputs": [
    {
     "name": "stdout",
     "output_type": "stream",
     "text": [
      "parent url: https://www.mindat.org/photos/, status code: 200\n"
     ]
    },
    {
     "name": "stderr",
     "output_type": "stream",
     "text": [
      "\r",
      "  0%|                                                                                         | 0/1000 [00:00<?, ?it/s]"
     ]
    },
    {
     "name": "stdout",
     "output_type": "stream",
     "text": [
      "first child url: https://www.mindat.org/photos/000/, status code: 200\n"
     ]
    },
    {
     "name": "stderr",
     "output_type": "stream",
     "text": [
      "\n",
      "  0%|                                                                                          | 0/100 [00:00<?, ?it/s]"
     ]
    },
    {
     "name": "stdout",
     "output_type": "stream",
     "text": [
      "second child url: https://www.mindat.org/photos/000/00/, status code: 200\n",
      "third child url: https://www.mindat.org/photos/000/00/00000020014378957949659.jpg, status code: 200\n",
      "('Connection aborted.', RemoteDisconnected('Remote end closed connection without response',)) https://www.mindat.org/photos/000/00/00000020014460934567596.jpg\n",
      "third child url: https://www.mindat.org/photos/000/00/0000007001315582593.jpg, status code: 200\n",
      "third child url: https://www.mindat.org/photos/000/00/0000005001177189069.jpg, status code: 200\n",
      "third child url: https://www.mindat.org/photos/000/00/0000002001318303526.jpg, status code: 200\n",
      "third child url: https://www.mindat.org/photos/000/00/00000040014610169264918.jpg, status code: 200\n",
      "third child url: https://www.mindat.org/photos/000/00/0000009001273905760.jpg, status code: 200\n"
     ]
    },
    {
     "name": "stderr",
     "output_type": "stream",
     "text": [
      "\n",
      "  1%|▊                                                                                 | 1/100 [00:05<09:25,  5.71s/it]"
     ]
    },
    {
     "name": "stdout",
     "output_type": "stream",
     "text": [
      "second child url: https://www.mindat.org/photos/000/01/, status code: 200\n",
      "third child url: https://www.mindat.org/photos/000/01/00000190014921001422173.jpg, status code: 200\n",
      "third child url: https://www.mindat.org/photos/000/01/0000012001320406904.jpg, status code: 200\n",
      "third child url: https://www.mindat.org/photos/000/01/0000016001275557046.jpg, status code: 200\n",
      "third child url: https://www.mindat.org/photos/000/01/00000110014636885711132.jpg, status code: 200\n",
      "third child url: https://www.mindat.org/photos/000/01/0000015001239114257.jpg, status code: 200\n",
      "third child url: https://www.mindat.org/photos/000/01/0000013001218493133.jpg, status code: 200\n"
     ]
    },
    {
     "name": "stderr",
     "output_type": "stream",
     "text": [
      "\n",
      "  2%|█▋                                                                                | 2/100 [00:07<06:25,  3.93s/it]"
     ]
    },
    {
     "name": "stdout",
     "output_type": "stream",
     "text": [
      "second child url: https://www.mindat.org/photos/000/02/, status code: 200\n",
      "third child url: https://www.mindat.org/photos/000/02/0000024001302441715.jpg, status code: 200\n",
      "third child url: https://www.mindat.org/photos/000/02/0000022001416296126.jpg, status code: 200\n",
      "third child url: https://www.mindat.org/photos/000/02/0000024001220979199.jpg, status code: 200\n",
      "third child url: https://www.mindat.org/photos/000/02/0000026001175593386.jpg, status code: 200\n",
      "third child url: https://www.mindat.org/photos/000/02/0000027001183648237.jpg, status code: 200\n",
      "third child url: https://www.mindat.org/photos/000/02/0000021001328064867.jpg, status code: 200\n",
      "third child url: https://www.mindat.org/photos/000/02/0000025001307052836.jpg, status code: 200\n",
      "third child url: https://www.mindat.org/photos/000/02/0000022001252999378.jpg, status code: 200\n"
     ]
    },
    {
     "name": "stderr",
     "output_type": "stream",
     "text": [
      "\n",
      "  3%|██▍                                                                               | 3/100 [00:10<05:52,  3.64s/it]"
     ]
    },
    {
     "name": "stdout",
     "output_type": "stream",
     "text": [
      "second child url: https://www.mindat.org/photos/000/03/, status code: 200\n",
      "third child url: https://www.mindat.org/photos/000/03/0000031001254277428.jpg, status code: 200\n",
      "third child url: https://www.mindat.org/photos/000/03/0000036001219518888.jpg, status code: 200\n",
      "third child url: https://www.mindat.org/photos/000/03/0000035001201636084.jpg, status code: 200\n",
      "third child url: https://www.mindat.org/photos/000/03/0000036001420862967.jpg, status code: 200\n",
      "third child url: https://www.mindat.org/photos/000/03/0000030001324990882.jpg, status code: 200\n",
      "third child url: https://www.mindat.org/photos/000/03/0000039001347316317.jpg, status code: 200\n",
      "third child url: https://www.mindat.org/photos/000/03/0000031001396369388.jpg, status code: 200\n",
      "third child url: https://www.mindat.org/photos/000/03/0000036001431845590.jpg, status code: 200\n",
      "third child url: https://www.mindat.org/photos/000/03/0000034001228415823.jpg, status code: 200\n"
     ]
    },
    {
     "name": "stderr",
     "output_type": "stream",
     "text": [
      "\n",
      "  4%|███▎                                                                              | 4/100 [00:13<05:32,  3.46s/it]"
     ]
    },
    {
     "name": "stdout",
     "output_type": "stream",
     "text": [
      "second child url: https://www.mindat.org/photos/000/04/, status code: 200\n",
      "third child url: https://www.mindat.org/photos/000/04/0000044001019964891.jpg, status code: 200\n",
      "third child url: https://www.mindat.org/photos/000/04/00000410015190648377627.jpg, status code: 200\n",
      "third child url: https://www.mindat.org/photos/000/04/00000420014894491792096.jpg, status code: 200\n"
     ]
    },
    {
     "ename": "KeyboardInterrupt",
     "evalue": "",
     "output_type": "error",
     "traceback": [
      "\u001b[1;31m---------------------------------------------------------------------------\u001b[0m",
      "\u001b[1;31mKeyboardInterrupt\u001b[0m                         Traceback (most recent call last)",
      "\u001b[1;32m<ipython-input-6-db85da284c53>\u001b[0m in \u001b[0;36m<module>\u001b[1;34m()\u001b[0m\n\u001b[0;32m     25\u001b[0m         \u001b[1;32mfor\u001b[0m \u001b[0mc3\u001b[0m \u001b[1;32min\u001b[0m \u001b[0mc3s\u001b[0m\u001b[1;33m:\u001b[0m\u001b[1;33m\u001b[0m\u001b[0m\n\u001b[0;32m     26\u001b[0m             \u001b[1;31m# get JPG HTML response\u001b[0m\u001b[1;33m\u001b[0m\u001b[1;33m\u001b[0m\u001b[0m\n\u001b[1;32m---> 27\u001b[1;33m             \u001b[0mr\u001b[0m \u001b[1;33m=\u001b[0m \u001b[0mtry_http_get\u001b[0m\u001b[1;33m(\u001b[0m\u001b[0mc3\u001b[0m\u001b[1;33m,\u001b[0m \u001b[0mheaders\u001b[0m\u001b[1;33m=\u001b[0m\u001b[1;33m{\u001b[0m\u001b[1;34m'referer'\u001b[0m\u001b[1;33m:\u001b[0m \u001b[1;34m'/'\u001b[0m\u001b[1;33m.\u001b[0m\u001b[0mjoin\u001b[0m\u001b[1;33m(\u001b[0m\u001b[0mc3\u001b[0m\u001b[1;33m.\u001b[0m\u001b[0msplit\u001b[0m\u001b[1;33m(\u001b[0m\u001b[1;34m'/'\u001b[0m\u001b[1;33m)\u001b[0m\u001b[1;33m[\u001b[0m\u001b[1;33m:\u001b[0m\u001b[1;33m-\u001b[0m\u001b[1;36m1\u001b[0m\u001b[1;33m]\u001b[0m\u001b[1;33m)\u001b[0m\u001b[1;33m}\u001b[0m\u001b[1;33m)\u001b[0m\u001b[1;33m\u001b[0m\u001b[0m\n\u001b[0m\u001b[0;32m     28\u001b[0m             \u001b[1;32mif\u001b[0m \u001b[0mr\u001b[0m \u001b[1;32mis\u001b[0m \u001b[1;32mNone\u001b[0m\u001b[1;33m:\u001b[0m \u001b[1;32mcontinue\u001b[0m\u001b[1;33m\u001b[0m\u001b[0m\n\u001b[0;32m     29\u001b[0m             \u001b[0mprintf\u001b[0m\u001b[1;33m(\u001b[0m\u001b[1;34mf\"third child url: {c3}, status code: {r.status_code}\"\u001b[0m\u001b[1;33m)\u001b[0m\u001b[1;33m\u001b[0m\u001b[0m\n",
      "\u001b[1;32m<ipython-input-3-8a7dbda731c9>\u001b[0m in \u001b[0;36mtry_http_get\u001b[1;34m(url, **kwargs)\u001b[0m\n\u001b[0;32m     15\u001b[0m     \u001b[1;32mtry\u001b[0m\u001b[1;33m:\u001b[0m\u001b[1;33m\u001b[0m\u001b[0m\n\u001b[0;32m     16\u001b[0m         \u001b[0mheaders\u001b[0m \u001b[1;33m=\u001b[0m \u001b[0mkwargs\u001b[0m\u001b[1;33m.\u001b[0m\u001b[0mget\u001b[0m\u001b[1;33m(\u001b[0m\u001b[1;34m'headers'\u001b[0m\u001b[1;33m)\u001b[0m\u001b[1;33m\u001b[0m\u001b[0m\n\u001b[1;32m---> 17\u001b[1;33m         \u001b[0mr\u001b[0m \u001b[1;33m=\u001b[0m \u001b[0msess\u001b[0m\u001b[1;33m.\u001b[0m\u001b[0mget\u001b[0m\u001b[1;33m(\u001b[0m\u001b[0murl\u001b[0m\u001b[1;33m,\u001b[0m \u001b[0mheaders\u001b[0m\u001b[1;33m=\u001b[0m\u001b[0mheaders\u001b[0m\u001b[1;33m)\u001b[0m\u001b[1;33m\u001b[0m\u001b[0m\n\u001b[0m\u001b[0;32m     18\u001b[0m         \u001b[1;32mreturn\u001b[0m \u001b[0mr\u001b[0m\u001b[1;33m\u001b[0m\u001b[0m\n\u001b[0;32m     19\u001b[0m     \u001b[1;32mexcept\u001b[0m \u001b[0mrequests\u001b[0m\u001b[1;33m.\u001b[0m\u001b[0mexceptions\u001b[0m\u001b[1;33m.\u001b[0m\u001b[0mRequestException\u001b[0m \u001b[1;32mas\u001b[0m \u001b[0me\u001b[0m\u001b[1;33m:\u001b[0m\u001b[1;33m\u001b[0m\u001b[0m\n",
      "\u001b[1;32m~\\Anaconda3\\lib\\site-packages\\requests\\sessions.py\u001b[0m in \u001b[0;36mget\u001b[1;34m(self, url, **kwargs)\u001b[0m\n\u001b[0;32m    519\u001b[0m \u001b[1;33m\u001b[0m\u001b[0m\n\u001b[0;32m    520\u001b[0m         \u001b[0mkwargs\u001b[0m\u001b[1;33m.\u001b[0m\u001b[0msetdefault\u001b[0m\u001b[1;33m(\u001b[0m\u001b[1;34m'allow_redirects'\u001b[0m\u001b[1;33m,\u001b[0m \u001b[1;32mTrue\u001b[0m\u001b[1;33m)\u001b[0m\u001b[1;33m\u001b[0m\u001b[0m\n\u001b[1;32m--> 521\u001b[1;33m         \u001b[1;32mreturn\u001b[0m \u001b[0mself\u001b[0m\u001b[1;33m.\u001b[0m\u001b[0mrequest\u001b[0m\u001b[1;33m(\u001b[0m\u001b[1;34m'GET'\u001b[0m\u001b[1;33m,\u001b[0m \u001b[0murl\u001b[0m\u001b[1;33m,\u001b[0m \u001b[1;33m**\u001b[0m\u001b[0mkwargs\u001b[0m\u001b[1;33m)\u001b[0m\u001b[1;33m\u001b[0m\u001b[0m\n\u001b[0m\u001b[0;32m    522\u001b[0m \u001b[1;33m\u001b[0m\u001b[0m\n\u001b[0;32m    523\u001b[0m     \u001b[1;32mdef\u001b[0m \u001b[0moptions\u001b[0m\u001b[1;33m(\u001b[0m\u001b[0mself\u001b[0m\u001b[1;33m,\u001b[0m \u001b[0murl\u001b[0m\u001b[1;33m,\u001b[0m \u001b[1;33m**\u001b[0m\u001b[0mkwargs\u001b[0m\u001b[1;33m)\u001b[0m\u001b[1;33m:\u001b[0m\u001b[1;33m\u001b[0m\u001b[0m\n",
      "\u001b[1;32m~\\Anaconda3\\lib\\site-packages\\requests_html.py\u001b[0m in \u001b[0;36mrequest\u001b[1;34m(self, *args, **kwargs)\u001b[0m\n\u001b[0;32m    670\u001b[0m         \"\"\"\n\u001b[0;32m    671\u001b[0m         \u001b[1;31m# Convert Request object into HTTPRequest object.\u001b[0m\u001b[1;33m\u001b[0m\u001b[1;33m\u001b[0m\u001b[0m\n\u001b[1;32m--> 672\u001b[1;33m         \u001b[0mr\u001b[0m \u001b[1;33m=\u001b[0m \u001b[0msuper\u001b[0m\u001b[1;33m(\u001b[0m\u001b[0mHTMLSession\u001b[0m\u001b[1;33m,\u001b[0m \u001b[0mself\u001b[0m\u001b[1;33m)\u001b[0m\u001b[1;33m.\u001b[0m\u001b[0mrequest\u001b[0m\u001b[1;33m(\u001b[0m\u001b[1;33m*\u001b[0m\u001b[0margs\u001b[0m\u001b[1;33m,\u001b[0m \u001b[1;33m**\u001b[0m\u001b[0mkwargs\u001b[0m\u001b[1;33m)\u001b[0m\u001b[1;33m\u001b[0m\u001b[0m\n\u001b[0m\u001b[0;32m    673\u001b[0m \u001b[1;33m\u001b[0m\u001b[0m\n\u001b[0;32m    674\u001b[0m         \u001b[1;32mreturn\u001b[0m \u001b[0mHTMLResponse\u001b[0m\u001b[1;33m.\u001b[0m\u001b[0m_from_response\u001b[0m\u001b[1;33m(\u001b[0m\u001b[0mr\u001b[0m\u001b[1;33m,\u001b[0m \u001b[0mself\u001b[0m\u001b[1;33m)\u001b[0m\u001b[1;33m\u001b[0m\u001b[0m\n",
      "\u001b[1;32m~\\Anaconda3\\lib\\site-packages\\requests\\sessions.py\u001b[0m in \u001b[0;36mrequest\u001b[1;34m(self, method, url, params, data, headers, cookies, files, auth, timeout, allow_redirects, proxies, hooks, stream, verify, cert, json)\u001b[0m\n\u001b[0;32m    506\u001b[0m         }\n\u001b[0;32m    507\u001b[0m         \u001b[0msend_kwargs\u001b[0m\u001b[1;33m.\u001b[0m\u001b[0mupdate\u001b[0m\u001b[1;33m(\u001b[0m\u001b[0msettings\u001b[0m\u001b[1;33m)\u001b[0m\u001b[1;33m\u001b[0m\u001b[0m\n\u001b[1;32m--> 508\u001b[1;33m         \u001b[0mresp\u001b[0m \u001b[1;33m=\u001b[0m \u001b[0mself\u001b[0m\u001b[1;33m.\u001b[0m\u001b[0msend\u001b[0m\u001b[1;33m(\u001b[0m\u001b[0mprep\u001b[0m\u001b[1;33m,\u001b[0m \u001b[1;33m**\u001b[0m\u001b[0msend_kwargs\u001b[0m\u001b[1;33m)\u001b[0m\u001b[1;33m\u001b[0m\u001b[0m\n\u001b[0m\u001b[0;32m    509\u001b[0m \u001b[1;33m\u001b[0m\u001b[0m\n\u001b[0;32m    510\u001b[0m         \u001b[1;32mreturn\u001b[0m \u001b[0mresp\u001b[0m\u001b[1;33m\u001b[0m\u001b[0m\n",
      "\u001b[1;32m~\\Anaconda3\\lib\\site-packages\\requests\\sessions.py\u001b[0m in \u001b[0;36msend\u001b[1;34m(self, request, **kwargs)\u001b[0m\n\u001b[0;32m    656\u001b[0m \u001b[1;33m\u001b[0m\u001b[0m\n\u001b[0;32m    657\u001b[0m         \u001b[1;32mif\u001b[0m \u001b[1;32mnot\u001b[0m \u001b[0mstream\u001b[0m\u001b[1;33m:\u001b[0m\u001b[1;33m\u001b[0m\u001b[0m\n\u001b[1;32m--> 658\u001b[1;33m             \u001b[0mr\u001b[0m\u001b[1;33m.\u001b[0m\u001b[0mcontent\u001b[0m\u001b[1;33m\u001b[0m\u001b[0m\n\u001b[0m\u001b[0;32m    659\u001b[0m \u001b[1;33m\u001b[0m\u001b[0m\n\u001b[0;32m    660\u001b[0m         \u001b[1;32mreturn\u001b[0m \u001b[0mr\u001b[0m\u001b[1;33m\u001b[0m\u001b[0m\n",
      "\u001b[1;32m~\\Anaconda3\\lib\\site-packages\\requests\\models.py\u001b[0m in \u001b[0;36mcontent\u001b[1;34m(self)\u001b[0m\n\u001b[0;32m    821\u001b[0m                 \u001b[0mself\u001b[0m\u001b[1;33m.\u001b[0m\u001b[0m_content\u001b[0m \u001b[1;33m=\u001b[0m \u001b[1;32mNone\u001b[0m\u001b[1;33m\u001b[0m\u001b[0m\n\u001b[0;32m    822\u001b[0m             \u001b[1;32melse\u001b[0m\u001b[1;33m:\u001b[0m\u001b[1;33m\u001b[0m\u001b[0m\n\u001b[1;32m--> 823\u001b[1;33m                 \u001b[0mself\u001b[0m\u001b[1;33m.\u001b[0m\u001b[0m_content\u001b[0m \u001b[1;33m=\u001b[0m \u001b[0mbytes\u001b[0m\u001b[1;33m(\u001b[0m\u001b[1;33m)\u001b[0m\u001b[1;33m.\u001b[0m\u001b[0mjoin\u001b[0m\u001b[1;33m(\u001b[0m\u001b[0mself\u001b[0m\u001b[1;33m.\u001b[0m\u001b[0miter_content\u001b[0m\u001b[1;33m(\u001b[0m\u001b[0mCONTENT_CHUNK_SIZE\u001b[0m\u001b[1;33m)\u001b[0m\u001b[1;33m)\u001b[0m \u001b[1;32mor\u001b[0m \u001b[0mbytes\u001b[0m\u001b[1;33m(\u001b[0m\u001b[1;33m)\u001b[0m\u001b[1;33m\u001b[0m\u001b[0m\n\u001b[0m\u001b[0;32m    824\u001b[0m \u001b[1;33m\u001b[0m\u001b[0m\n\u001b[0;32m    825\u001b[0m         \u001b[0mself\u001b[0m\u001b[1;33m.\u001b[0m\u001b[0m_content_consumed\u001b[0m \u001b[1;33m=\u001b[0m \u001b[1;32mTrue\u001b[0m\u001b[1;33m\u001b[0m\u001b[0m\n",
      "\u001b[1;32m~\\Anaconda3\\lib\\site-packages\\requests\\models.py\u001b[0m in \u001b[0;36mgenerate\u001b[1;34m()\u001b[0m\n\u001b[0;32m    743\u001b[0m             \u001b[1;32mif\u001b[0m \u001b[0mhasattr\u001b[0m\u001b[1;33m(\u001b[0m\u001b[0mself\u001b[0m\u001b[1;33m.\u001b[0m\u001b[0mraw\u001b[0m\u001b[1;33m,\u001b[0m \u001b[1;34m'stream'\u001b[0m\u001b[1;33m)\u001b[0m\u001b[1;33m:\u001b[0m\u001b[1;33m\u001b[0m\u001b[0m\n\u001b[0;32m    744\u001b[0m                 \u001b[1;32mtry\u001b[0m\u001b[1;33m:\u001b[0m\u001b[1;33m\u001b[0m\u001b[0m\n\u001b[1;32m--> 745\u001b[1;33m                     \u001b[1;32mfor\u001b[0m \u001b[0mchunk\u001b[0m \u001b[1;32min\u001b[0m \u001b[0mself\u001b[0m\u001b[1;33m.\u001b[0m\u001b[0mraw\u001b[0m\u001b[1;33m.\u001b[0m\u001b[0mstream\u001b[0m\u001b[1;33m(\u001b[0m\u001b[0mchunk_size\u001b[0m\u001b[1;33m,\u001b[0m \u001b[0mdecode_content\u001b[0m\u001b[1;33m=\u001b[0m\u001b[1;32mTrue\u001b[0m\u001b[1;33m)\u001b[0m\u001b[1;33m:\u001b[0m\u001b[1;33m\u001b[0m\u001b[0m\n\u001b[0m\u001b[0;32m    746\u001b[0m                         \u001b[1;32myield\u001b[0m \u001b[0mchunk\u001b[0m\u001b[1;33m\u001b[0m\u001b[0m\n\u001b[0;32m    747\u001b[0m                 \u001b[1;32mexcept\u001b[0m \u001b[0mProtocolError\u001b[0m \u001b[1;32mas\u001b[0m \u001b[0me\u001b[0m\u001b[1;33m:\u001b[0m\u001b[1;33m\u001b[0m\u001b[0m\n",
      "\u001b[1;32m~\\Anaconda3\\lib\\site-packages\\urllib3\\response.py\u001b[0m in \u001b[0;36mstream\u001b[1;34m(self, amt, decode_content)\u001b[0m\n\u001b[0;32m    434\u001b[0m         \u001b[1;32melse\u001b[0m\u001b[1;33m:\u001b[0m\u001b[1;33m\u001b[0m\u001b[0m\n\u001b[0;32m    435\u001b[0m             \u001b[1;32mwhile\u001b[0m \u001b[1;32mnot\u001b[0m \u001b[0mis_fp_closed\u001b[0m\u001b[1;33m(\u001b[0m\u001b[0mself\u001b[0m\u001b[1;33m.\u001b[0m\u001b[0m_fp\u001b[0m\u001b[1;33m)\u001b[0m\u001b[1;33m:\u001b[0m\u001b[1;33m\u001b[0m\u001b[0m\n\u001b[1;32m--> 436\u001b[1;33m                 \u001b[0mdata\u001b[0m \u001b[1;33m=\u001b[0m \u001b[0mself\u001b[0m\u001b[1;33m.\u001b[0m\u001b[0mread\u001b[0m\u001b[1;33m(\u001b[0m\u001b[0mamt\u001b[0m\u001b[1;33m=\u001b[0m\u001b[0mamt\u001b[0m\u001b[1;33m,\u001b[0m \u001b[0mdecode_content\u001b[0m\u001b[1;33m=\u001b[0m\u001b[0mdecode_content\u001b[0m\u001b[1;33m)\u001b[0m\u001b[1;33m\u001b[0m\u001b[0m\n\u001b[0m\u001b[0;32m    437\u001b[0m \u001b[1;33m\u001b[0m\u001b[0m\n\u001b[0;32m    438\u001b[0m                 \u001b[1;32mif\u001b[0m \u001b[0mdata\u001b[0m\u001b[1;33m:\u001b[0m\u001b[1;33m\u001b[0m\u001b[0m\n",
      "\u001b[1;32m~\\Anaconda3\\lib\\site-packages\\urllib3\\response.py\u001b[0m in \u001b[0;36mread\u001b[1;34m(self, amt, decode_content, cache_content)\u001b[0m\n\u001b[0;32m    382\u001b[0m             \u001b[1;32melse\u001b[0m\u001b[1;33m:\u001b[0m\u001b[1;33m\u001b[0m\u001b[0m\n\u001b[0;32m    383\u001b[0m                 \u001b[0mcache_content\u001b[0m \u001b[1;33m=\u001b[0m \u001b[1;32mFalse\u001b[0m\u001b[1;33m\u001b[0m\u001b[0m\n\u001b[1;32m--> 384\u001b[1;33m                 \u001b[0mdata\u001b[0m \u001b[1;33m=\u001b[0m \u001b[0mself\u001b[0m\u001b[1;33m.\u001b[0m\u001b[0m_fp\u001b[0m\u001b[1;33m.\u001b[0m\u001b[0mread\u001b[0m\u001b[1;33m(\u001b[0m\u001b[0mamt\u001b[0m\u001b[1;33m)\u001b[0m\u001b[1;33m\u001b[0m\u001b[0m\n\u001b[0m\u001b[0;32m    385\u001b[0m                 \u001b[1;32mif\u001b[0m \u001b[0mamt\u001b[0m \u001b[1;33m!=\u001b[0m \u001b[1;36m0\u001b[0m \u001b[1;32mand\u001b[0m \u001b[1;32mnot\u001b[0m \u001b[0mdata\u001b[0m\u001b[1;33m:\u001b[0m  \u001b[1;31m# Platform-specific: Buggy versions of Python.\u001b[0m\u001b[1;33m\u001b[0m\u001b[0m\n\u001b[0;32m    386\u001b[0m                     \u001b[1;31m# Close the connection when no data is returned\u001b[0m\u001b[1;33m\u001b[0m\u001b[1;33m\u001b[0m\u001b[0m\n",
      "\u001b[1;32m~\\Anaconda3\\lib\\http\\client.py\u001b[0m in \u001b[0;36mread\u001b[1;34m(self, amt)\u001b[0m\n\u001b[0;32m    447\u001b[0m             \u001b[1;31m# Amount is given, implement using readinto\u001b[0m\u001b[1;33m\u001b[0m\u001b[1;33m\u001b[0m\u001b[0m\n\u001b[0;32m    448\u001b[0m             \u001b[0mb\u001b[0m \u001b[1;33m=\u001b[0m \u001b[0mbytearray\u001b[0m\u001b[1;33m(\u001b[0m\u001b[0mamt\u001b[0m\u001b[1;33m)\u001b[0m\u001b[1;33m\u001b[0m\u001b[0m\n\u001b[1;32m--> 449\u001b[1;33m             \u001b[0mn\u001b[0m \u001b[1;33m=\u001b[0m \u001b[0mself\u001b[0m\u001b[1;33m.\u001b[0m\u001b[0mreadinto\u001b[0m\u001b[1;33m(\u001b[0m\u001b[0mb\u001b[0m\u001b[1;33m)\u001b[0m\u001b[1;33m\u001b[0m\u001b[0m\n\u001b[0m\u001b[0;32m    450\u001b[0m             \u001b[1;32mreturn\u001b[0m \u001b[0mmemoryview\u001b[0m\u001b[1;33m(\u001b[0m\u001b[0mb\u001b[0m\u001b[1;33m)\u001b[0m\u001b[1;33m[\u001b[0m\u001b[1;33m:\u001b[0m\u001b[0mn\u001b[0m\u001b[1;33m]\u001b[0m\u001b[1;33m.\u001b[0m\u001b[0mtobytes\u001b[0m\u001b[1;33m(\u001b[0m\u001b[1;33m)\u001b[0m\u001b[1;33m\u001b[0m\u001b[0m\n\u001b[0;32m    451\u001b[0m         \u001b[1;32melse\u001b[0m\u001b[1;33m:\u001b[0m\u001b[1;33m\u001b[0m\u001b[0m\n",
      "\u001b[1;32m~\\Anaconda3\\lib\\http\\client.py\u001b[0m in \u001b[0;36mreadinto\u001b[1;34m(self, b)\u001b[0m\n\u001b[0;32m    491\u001b[0m         \u001b[1;31m# connection, and the user is reading more bytes than will be provided\u001b[0m\u001b[1;33m\u001b[0m\u001b[1;33m\u001b[0m\u001b[0m\n\u001b[0;32m    492\u001b[0m         \u001b[1;31m# (for example, reading in 1k chunks)\u001b[0m\u001b[1;33m\u001b[0m\u001b[1;33m\u001b[0m\u001b[0m\n\u001b[1;32m--> 493\u001b[1;33m         \u001b[0mn\u001b[0m \u001b[1;33m=\u001b[0m \u001b[0mself\u001b[0m\u001b[1;33m.\u001b[0m\u001b[0mfp\u001b[0m\u001b[1;33m.\u001b[0m\u001b[0mreadinto\u001b[0m\u001b[1;33m(\u001b[0m\u001b[0mb\u001b[0m\u001b[1;33m)\u001b[0m\u001b[1;33m\u001b[0m\u001b[0m\n\u001b[0m\u001b[0;32m    494\u001b[0m         \u001b[1;32mif\u001b[0m \u001b[1;32mnot\u001b[0m \u001b[0mn\u001b[0m \u001b[1;32mand\u001b[0m \u001b[0mb\u001b[0m\u001b[1;33m:\u001b[0m\u001b[1;33m\u001b[0m\u001b[0m\n\u001b[0;32m    495\u001b[0m             \u001b[1;31m# Ideally, we would raise IncompleteRead if the content-length\u001b[0m\u001b[1;33m\u001b[0m\u001b[1;33m\u001b[0m\u001b[0m\n",
      "\u001b[1;32m~\\Anaconda3\\lib\\socket.py\u001b[0m in \u001b[0;36mreadinto\u001b[1;34m(self, b)\u001b[0m\n\u001b[0;32m    584\u001b[0m         \u001b[1;32mwhile\u001b[0m \u001b[1;32mTrue\u001b[0m\u001b[1;33m:\u001b[0m\u001b[1;33m\u001b[0m\u001b[0m\n\u001b[0;32m    585\u001b[0m             \u001b[1;32mtry\u001b[0m\u001b[1;33m:\u001b[0m\u001b[1;33m\u001b[0m\u001b[0m\n\u001b[1;32m--> 586\u001b[1;33m                 \u001b[1;32mreturn\u001b[0m \u001b[0mself\u001b[0m\u001b[1;33m.\u001b[0m\u001b[0m_sock\u001b[0m\u001b[1;33m.\u001b[0m\u001b[0mrecv_into\u001b[0m\u001b[1;33m(\u001b[0m\u001b[0mb\u001b[0m\u001b[1;33m)\u001b[0m\u001b[1;33m\u001b[0m\u001b[0m\n\u001b[0m\u001b[0;32m    587\u001b[0m             \u001b[1;32mexcept\u001b[0m \u001b[0mtimeout\u001b[0m\u001b[1;33m:\u001b[0m\u001b[1;33m\u001b[0m\u001b[0m\n\u001b[0;32m    588\u001b[0m                 \u001b[0mself\u001b[0m\u001b[1;33m.\u001b[0m\u001b[0m_timeout_occurred\u001b[0m \u001b[1;33m=\u001b[0m \u001b[1;32mTrue\u001b[0m\u001b[1;33m\u001b[0m\u001b[0m\n",
      "\u001b[1;32m~\\Anaconda3\\lib\\site-packages\\urllib3\\contrib\\pyopenssl.py\u001b[0m in \u001b[0;36mrecv_into\u001b[1;34m(self, *args, **kwargs)\u001b[0m\n\u001b[0;32m    278\u001b[0m     \u001b[1;32mdef\u001b[0m \u001b[0mrecv_into\u001b[0m\u001b[1;33m(\u001b[0m\u001b[0mself\u001b[0m\u001b[1;33m,\u001b[0m \u001b[1;33m*\u001b[0m\u001b[0margs\u001b[0m\u001b[1;33m,\u001b[0m \u001b[1;33m**\u001b[0m\u001b[0mkwargs\u001b[0m\u001b[1;33m)\u001b[0m\u001b[1;33m:\u001b[0m\u001b[1;33m\u001b[0m\u001b[0m\n\u001b[0;32m    279\u001b[0m         \u001b[1;32mtry\u001b[0m\u001b[1;33m:\u001b[0m\u001b[1;33m\u001b[0m\u001b[0m\n\u001b[1;32m--> 280\u001b[1;33m             \u001b[1;32mreturn\u001b[0m \u001b[0mself\u001b[0m\u001b[1;33m.\u001b[0m\u001b[0mconnection\u001b[0m\u001b[1;33m.\u001b[0m\u001b[0mrecv_into\u001b[0m\u001b[1;33m(\u001b[0m\u001b[1;33m*\u001b[0m\u001b[0margs\u001b[0m\u001b[1;33m,\u001b[0m \u001b[1;33m**\u001b[0m\u001b[0mkwargs\u001b[0m\u001b[1;33m)\u001b[0m\u001b[1;33m\u001b[0m\u001b[0m\n\u001b[0m\u001b[0;32m    281\u001b[0m         \u001b[1;32mexcept\u001b[0m \u001b[0mOpenSSL\u001b[0m\u001b[1;33m.\u001b[0m\u001b[0mSSL\u001b[0m\u001b[1;33m.\u001b[0m\u001b[0mSysCallError\u001b[0m \u001b[1;32mas\u001b[0m \u001b[0me\u001b[0m\u001b[1;33m:\u001b[0m\u001b[1;33m\u001b[0m\u001b[0m\n\u001b[0;32m    282\u001b[0m             \u001b[1;32mif\u001b[0m \u001b[0mself\u001b[0m\u001b[1;33m.\u001b[0m\u001b[0msuppress_ragged_eofs\u001b[0m \u001b[1;32mand\u001b[0m \u001b[0me\u001b[0m\u001b[1;33m.\u001b[0m\u001b[0margs\u001b[0m \u001b[1;33m==\u001b[0m \u001b[1;33m(\u001b[0m\u001b[1;33m-\u001b[0m\u001b[1;36m1\u001b[0m\u001b[1;33m,\u001b[0m \u001b[1;34m'Unexpected EOF'\u001b[0m\u001b[1;33m)\u001b[0m\u001b[1;33m:\u001b[0m\u001b[1;33m\u001b[0m\u001b[0m\n",
      "\u001b[1;32m~\\Anaconda3\\lib\\site-packages\\OpenSSL\\SSL.py\u001b[0m in \u001b[0;36mrecv_into\u001b[1;34m(self, buffer, nbytes, flags)\u001b[0m\n\u001b[0;32m   1811\u001b[0m             \u001b[0mresult\u001b[0m \u001b[1;33m=\u001b[0m \u001b[0m_lib\u001b[0m\u001b[1;33m.\u001b[0m\u001b[0mSSL_peek\u001b[0m\u001b[1;33m(\u001b[0m\u001b[0mself\u001b[0m\u001b[1;33m.\u001b[0m\u001b[0m_ssl\u001b[0m\u001b[1;33m,\u001b[0m \u001b[0mbuf\u001b[0m\u001b[1;33m,\u001b[0m \u001b[0mnbytes\u001b[0m\u001b[1;33m)\u001b[0m\u001b[1;33m\u001b[0m\u001b[0m\n\u001b[0;32m   1812\u001b[0m         \u001b[1;32melse\u001b[0m\u001b[1;33m:\u001b[0m\u001b[1;33m\u001b[0m\u001b[0m\n\u001b[1;32m-> 1813\u001b[1;33m             \u001b[0mresult\u001b[0m \u001b[1;33m=\u001b[0m \u001b[0m_lib\u001b[0m\u001b[1;33m.\u001b[0m\u001b[0mSSL_read\u001b[0m\u001b[1;33m(\u001b[0m\u001b[0mself\u001b[0m\u001b[1;33m.\u001b[0m\u001b[0m_ssl\u001b[0m\u001b[1;33m,\u001b[0m \u001b[0mbuf\u001b[0m\u001b[1;33m,\u001b[0m \u001b[0mnbytes\u001b[0m\u001b[1;33m)\u001b[0m\u001b[1;33m\u001b[0m\u001b[0m\n\u001b[0m\u001b[0;32m   1814\u001b[0m         \u001b[0mself\u001b[0m\u001b[1;33m.\u001b[0m\u001b[0m_raise_ssl_error\u001b[0m\u001b[1;33m(\u001b[0m\u001b[0mself\u001b[0m\u001b[1;33m.\u001b[0m\u001b[0m_ssl\u001b[0m\u001b[1;33m,\u001b[0m \u001b[0mresult\u001b[0m\u001b[1;33m)\u001b[0m\u001b[1;33m\u001b[0m\u001b[0m\n\u001b[0;32m   1815\u001b[0m \u001b[1;33m\u001b[0m\u001b[0m\n",
      "\u001b[1;31mKeyboardInterrupt\u001b[0m: "
     ]
    }
   ],
   "source": [
    "# first parent\n",
    "p1 = ROOT_URL+PARENT_DIR\n",
    "mkdir_loc(p1)\n",
    "r = try_http_get(p1)\n",
    "printf(f\"parent url: {p1}, status code: {r.status_code}\")\n",
    "\n",
    "# first child\n",
    "c1s = [p1+'{:03}/'.format(i) for i in range(1000)]\n",
    "for c1 in tqdm.tqdm(c1s):\n",
    "    mkdir_loc(c1)\n",
    "    r = try_http_get(c1, headers={'referer': '/'.join(c1.split('/')[:-1])})\n",
    "    if r is None: continue\n",
    "    printf(f\"first child url: {c1}, status code: {r.status_code}\")\n",
    "\n",
    "    # second child\n",
    "    c2s = sorted([c1+u for u in list(r.html.links) if len(u) == 3])\n",
    "    for c2 in tqdm.tqdm(c2s):\n",
    "        mkdir_loc(c2)\n",
    "        r = try_http_get(c2, headers={'referer': '/'.join(c2.split('/')[:-1])})\n",
    "        if r is None: continue\n",
    "        printf(f\"second child url: {c2}, status code: {r.status_code}\")\n",
    "    \n",
    "        # third child\n",
    "        c3s = [c2+u for u in list(r.html.links) if '.jpg' in u or '.png' in u]\n",
    "        for c3 in c3s:\n",
    "            # get JPG HTML response\n",
    "            r = try_http_get(c3, headers={'referer': '/'.join(c3.split('/')[:-1])})\n",
    "            if r is None: continue\n",
    "            printf(f\"third child url: {c3}, status code: {r.status_code}\")\n",
    "            # save image\n",
    "            if r.status_code == 200 and r.content != b'':\n",
    "                jpg_path = loc_path(c3)\n",
    "                with open(jpg_path, 'wb') as f:\n",
    "                    f.write(r.html.raw_html)\n",
    "\n"
   ]
  },
  {
   "cell_type": "code",
   "execution_count": null,
   "metadata": {},
   "outputs": [],
   "source": []
  }
 ],
 "metadata": {
  "kernelspec": {
   "display_name": "Python 3",
   "language": "python",
   "name": "python3"
  },
  "language_info": {
   "codemirror_mode": {
    "name": "ipython",
    "version": 3
   },
   "file_extension": ".py",
   "mimetype": "text/x-python",
   "name": "python",
   "nbconvert_exporter": "python",
   "pygments_lexer": "ipython3",
   "version": "3.6.6"
  }
 },
 "nbformat": 4,
 "nbformat_minor": 2
}
